{
 "cells": [
  {
   "cell_type": "markdown",
   "id": "031c9874",
   "metadata": {},
   "source": [
    "## Decision Tree"
   ]
  },
  {
   "cell_type": "code",
   "execution_count": 2,
   "id": "1ff55e2d",
   "metadata": {},
   "outputs": [],
   "source": [
    "import pandas as pd\n",
    "from source.DecisionTree import get_gain, get_probability, get_entropy, build_decision_tree, get_fmax"
   ]
  },
  {
   "cell_type": "code",
   "execution_count": 7,
   "id": "286b70b9",
   "metadata": {},
   "outputs": [
    {
     "name": "stdout",
     "output_type": "stream",
     "text": [
      "Gain(S,Gender) = 0.125\n",
      "The max feature is \"Travel Cost\"\n"
     ]
    }
   ],
   "source": [
    "file = './dataset/DecisionTree'\n",
    "dat = pd.read_csv(file, sep='\\t')\n",
    "# Get label and features\n",
    "label = 'Mode'\n",
    "features = (dat.drop(label, axis=1)).keys()\n",
    "# Get the gain\n",
    "a = get_gain(dat,'Mode','Gender')\n",
    "print(f'Gain(S,Gender) = {a:.3}')\n",
    "# Print max feature\n",
    "fmax = get_fmax(dat, label)\n",
    "print(f'The max feature is \"{fmax}\"')"
   ]
  },
  {
   "cell_type": "code",
   "execution_count": 8,
   "id": "cd57626f",
   "metadata": {},
   "outputs": [
    {
     "data": {
      "text/plain": [
       "{'Travel Cost': {'Cheap': {'Gender': {'Male': 'Bus',\n",
       "    'Female': {'Ownership': {0: 'Bus', 1: 'Train'}}}},\n",
       "  'Expensive': 'Car',\n",
       "  'Standard': 'Train'}}"
      ]
     },
     "execution_count": 8,
     "metadata": {},
     "output_type": "execute_result"
    }
   ],
   "source": [
    "# Result\n",
    "build_decision_tree(dat, label)"
   ]
  },
  {
   "cell_type": "code",
   "execution_count": null,
   "id": "8db7b137",
   "metadata": {},
   "outputs": [],
   "source": []
  }
 ],
 "metadata": {
  "kernelspec": {
   "display_name": "Python 3 (ipykernel)",
   "language": "python",
   "name": "python3"
  },
  "language_info": {
   "codemirror_mode": {
    "name": "ipython",
    "version": 3
   },
   "file_extension": ".py",
   "mimetype": "text/x-python",
   "name": "python",
   "nbconvert_exporter": "python",
   "pygments_lexer": "ipython3",
   "version": "3.9.7"
  }
 },
 "nbformat": 4,
 "nbformat_minor": 5
}
