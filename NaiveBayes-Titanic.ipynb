{
 "cells": [
  {
   "cell_type": "markdown",
   "metadata": {},
   "source": [
    "# Bài tập Naive Bayes"
   ]
  },
  {
   "cell_type": "markdown",
   "metadata": {
    "_cell_guid": "e93323c0-07e0-6b2c-47d1-1f82bb4e9b56"
   },
   "source": [
    "## Sử dụng GaussianNB để phân nhóm cho tập Titanic dataset\n",
    "- dataset: 'Titanic_train.csv', 'Titanic_test.csv'\n"
   ]
  },
  {
   "cell_type": "code",
   "execution_count": 1,
   "metadata": {},
   "outputs": [],
   "source": [
    "import pandas as pd\n",
    "import numpy as np\n",
    "import matplotlib.pyplot as plt\n",
    "from collections import Counter\n",
    "from sklearn import feature_extraction, model_selection, naive_bayes, metrics, svm\n",
    "from IPython.display import Image\n",
    "import warnings\n",
    "warnings.filterwarnings(\"ignore\")\n",
    "%matplotlib inline "
   ]
  },
  {
   "cell_type": "markdown",
   "metadata": {},
   "source": [
    "### Read the train and test dataset"
   ]
  },
  {
   "cell_type": "code",
   "execution_count": 2,
   "metadata": {},
   "outputs": [],
   "source": [
    "X_train = pd.read_csv('./datasets/Titanic_train.csv', index_col=0)\n",
    "X_test = pd.read_csv('./datasets/Titanic_test.csv')"
   ]
  },
  {
   "cell_type": "markdown",
   "metadata": {},
   "source": [
    "### Explore the dataset"
   ]
  },
  {
   "cell_type": "code",
   "execution_count": 3,
   "metadata": {},
   "outputs": [
    {
     "data": {
      "text/html": [
       "<div>\n",
       "<style scoped>\n",
       "    .dataframe tbody tr th:only-of-type {\n",
       "        vertical-align: middle;\n",
       "    }\n",
       "\n",
       "    .dataframe tbody tr th {\n",
       "        vertical-align: top;\n",
       "    }\n",
       "\n",
       "    .dataframe thead th {\n",
       "        text-align: right;\n",
       "    }\n",
       "</style>\n",
       "<table border=\"1\" class=\"dataframe\">\n",
       "  <thead>\n",
       "    <tr style=\"text-align: right;\">\n",
       "      <th></th>\n",
       "      <th>Survived</th>\n",
       "      <th>Pclass</th>\n",
       "      <th>Name</th>\n",
       "      <th>Sex</th>\n",
       "      <th>Age</th>\n",
       "      <th>SibSp</th>\n",
       "      <th>Parch</th>\n",
       "      <th>Ticket</th>\n",
       "      <th>Fare</th>\n",
       "      <th>Cabin</th>\n",
       "      <th>Embarked</th>\n",
       "    </tr>\n",
       "    <tr>\n",
       "      <th>PassengerId</th>\n",
       "      <th></th>\n",
       "      <th></th>\n",
       "      <th></th>\n",
       "      <th></th>\n",
       "      <th></th>\n",
       "      <th></th>\n",
       "      <th></th>\n",
       "      <th></th>\n",
       "      <th></th>\n",
       "      <th></th>\n",
       "      <th></th>\n",
       "    </tr>\n",
       "  </thead>\n",
       "  <tbody>\n",
       "    <tr>\n",
       "      <th>1</th>\n",
       "      <td>0</td>\n",
       "      <td>3</td>\n",
       "      <td>Braund, Mr. Owen Harris</td>\n",
       "      <td>male</td>\n",
       "      <td>22.0</td>\n",
       "      <td>1</td>\n",
       "      <td>0</td>\n",
       "      <td>A/5 21171</td>\n",
       "      <td>7.2500</td>\n",
       "      <td>NaN</td>\n",
       "      <td>S</td>\n",
       "    </tr>\n",
       "    <tr>\n",
       "      <th>2</th>\n",
       "      <td>1</td>\n",
       "      <td>1</td>\n",
       "      <td>Cumings, Mrs. John Bradley (Florence Briggs Th...</td>\n",
       "      <td>female</td>\n",
       "      <td>38.0</td>\n",
       "      <td>1</td>\n",
       "      <td>0</td>\n",
       "      <td>PC 17599</td>\n",
       "      <td>71.2833</td>\n",
       "      <td>C85</td>\n",
       "      <td>C</td>\n",
       "    </tr>\n",
       "    <tr>\n",
       "      <th>3</th>\n",
       "      <td>1</td>\n",
       "      <td>3</td>\n",
       "      <td>Heikkinen, Miss. Laina</td>\n",
       "      <td>female</td>\n",
       "      <td>26.0</td>\n",
       "      <td>0</td>\n",
       "      <td>0</td>\n",
       "      <td>STON/O2. 3101282</td>\n",
       "      <td>7.9250</td>\n",
       "      <td>NaN</td>\n",
       "      <td>S</td>\n",
       "    </tr>\n",
       "    <tr>\n",
       "      <th>4</th>\n",
       "      <td>1</td>\n",
       "      <td>1</td>\n",
       "      <td>Futrelle, Mrs. Jacques Heath (Lily May Peel)</td>\n",
       "      <td>female</td>\n",
       "      <td>35.0</td>\n",
       "      <td>1</td>\n",
       "      <td>0</td>\n",
       "      <td>113803</td>\n",
       "      <td>53.1000</td>\n",
       "      <td>C123</td>\n",
       "      <td>S</td>\n",
       "    </tr>\n",
       "    <tr>\n",
       "      <th>5</th>\n",
       "      <td>0</td>\n",
       "      <td>3</td>\n",
       "      <td>Allen, Mr. William Henry</td>\n",
       "      <td>male</td>\n",
       "      <td>35.0</td>\n",
       "      <td>0</td>\n",
       "      <td>0</td>\n",
       "      <td>373450</td>\n",
       "      <td>8.0500</td>\n",
       "      <td>NaN</td>\n",
       "      <td>S</td>\n",
       "    </tr>\n",
       "  </tbody>\n",
       "</table>\n",
       "</div>"
      ],
      "text/plain": [
       "             Survived  Pclass  \\\n",
       "PassengerId                     \n",
       "1                   0       3   \n",
       "2                   1       1   \n",
       "3                   1       3   \n",
       "4                   1       1   \n",
       "5                   0       3   \n",
       "\n",
       "                                                          Name     Sex   Age  \\\n",
       "PassengerId                                                                    \n",
       "1                                      Braund, Mr. Owen Harris    male  22.0   \n",
       "2            Cumings, Mrs. John Bradley (Florence Briggs Th...  female  38.0   \n",
       "3                                       Heikkinen, Miss. Laina  female  26.0   \n",
       "4                 Futrelle, Mrs. Jacques Heath (Lily May Peel)  female  35.0   \n",
       "5                                     Allen, Mr. William Henry    male  35.0   \n",
       "\n",
       "             SibSp  Parch            Ticket     Fare Cabin Embarked  \n",
       "PassengerId                                                          \n",
       "1                1      0         A/5 21171   7.2500   NaN        S  \n",
       "2                1      0          PC 17599  71.2833   C85        C  \n",
       "3                0      0  STON/O2. 3101282   7.9250   NaN        S  \n",
       "4                1      0            113803  53.1000  C123        S  \n",
       "5                0      0            373450   8.0500   NaN        S  "
      ]
     },
     "execution_count": 3,
     "metadata": {},
     "output_type": "execute_result"
    }
   ],
   "source": [
    "X_train.head()"
   ]
  },
  {
   "cell_type": "code",
   "execution_count": 4,
   "metadata": {},
   "outputs": [
    {
     "data": {
      "text/html": [
       "<div>\n",
       "<style scoped>\n",
       "    .dataframe tbody tr th:only-of-type {\n",
       "        vertical-align: middle;\n",
       "    }\n",
       "\n",
       "    .dataframe tbody tr th {\n",
       "        vertical-align: top;\n",
       "    }\n",
       "\n",
       "    .dataframe thead th {\n",
       "        text-align: right;\n",
       "    }\n",
       "</style>\n",
       "<table border=\"1\" class=\"dataframe\">\n",
       "  <thead>\n",
       "    <tr style=\"text-align: right;\">\n",
       "      <th></th>\n",
       "      <th>PassengerId</th>\n",
       "      <th>Pclass</th>\n",
       "      <th>Name</th>\n",
       "      <th>Sex</th>\n",
       "      <th>Age</th>\n",
       "      <th>SibSp</th>\n",
       "      <th>Parch</th>\n",
       "      <th>Ticket</th>\n",
       "      <th>Fare</th>\n",
       "      <th>Cabin</th>\n",
       "      <th>Embarked</th>\n",
       "    </tr>\n",
       "  </thead>\n",
       "  <tbody>\n",
       "    <tr>\n",
       "      <th>0</th>\n",
       "      <td>892</td>\n",
       "      <td>3</td>\n",
       "      <td>Kelly, Mr. James</td>\n",
       "      <td>male</td>\n",
       "      <td>34.5</td>\n",
       "      <td>0</td>\n",
       "      <td>0</td>\n",
       "      <td>330911</td>\n",
       "      <td>7.8292</td>\n",
       "      <td>NaN</td>\n",
       "      <td>Q</td>\n",
       "    </tr>\n",
       "    <tr>\n",
       "      <th>1</th>\n",
       "      <td>893</td>\n",
       "      <td>3</td>\n",
       "      <td>Wilkes, Mrs. James (Ellen Needs)</td>\n",
       "      <td>female</td>\n",
       "      <td>47.0</td>\n",
       "      <td>1</td>\n",
       "      <td>0</td>\n",
       "      <td>363272</td>\n",
       "      <td>7.0000</td>\n",
       "      <td>NaN</td>\n",
       "      <td>S</td>\n",
       "    </tr>\n",
       "    <tr>\n",
       "      <th>2</th>\n",
       "      <td>894</td>\n",
       "      <td>2</td>\n",
       "      <td>Myles, Mr. Thomas Francis</td>\n",
       "      <td>male</td>\n",
       "      <td>62.0</td>\n",
       "      <td>0</td>\n",
       "      <td>0</td>\n",
       "      <td>240276</td>\n",
       "      <td>9.6875</td>\n",
       "      <td>NaN</td>\n",
       "      <td>Q</td>\n",
       "    </tr>\n",
       "    <tr>\n",
       "      <th>3</th>\n",
       "      <td>895</td>\n",
       "      <td>3</td>\n",
       "      <td>Wirz, Mr. Albert</td>\n",
       "      <td>male</td>\n",
       "      <td>27.0</td>\n",
       "      <td>0</td>\n",
       "      <td>0</td>\n",
       "      <td>315154</td>\n",
       "      <td>8.6625</td>\n",
       "      <td>NaN</td>\n",
       "      <td>S</td>\n",
       "    </tr>\n",
       "    <tr>\n",
       "      <th>4</th>\n",
       "      <td>896</td>\n",
       "      <td>3</td>\n",
       "      <td>Hirvonen, Mrs. Alexander (Helga E Lindqvist)</td>\n",
       "      <td>female</td>\n",
       "      <td>22.0</td>\n",
       "      <td>1</td>\n",
       "      <td>1</td>\n",
       "      <td>3101298</td>\n",
       "      <td>12.2875</td>\n",
       "      <td>NaN</td>\n",
       "      <td>S</td>\n",
       "    </tr>\n",
       "  </tbody>\n",
       "</table>\n",
       "</div>"
      ],
      "text/plain": [
       "   PassengerId  Pclass                                          Name     Sex  \\\n",
       "0          892       3                              Kelly, Mr. James    male   \n",
       "1          893       3              Wilkes, Mrs. James (Ellen Needs)  female   \n",
       "2          894       2                     Myles, Mr. Thomas Francis    male   \n",
       "3          895       3                              Wirz, Mr. Albert    male   \n",
       "4          896       3  Hirvonen, Mrs. Alexander (Helga E Lindqvist)  female   \n",
       "\n",
       "    Age  SibSp  Parch   Ticket     Fare Cabin Embarked  \n",
       "0  34.5      0      0   330911   7.8292   NaN        Q  \n",
       "1  47.0      1      0   363272   7.0000   NaN        S  \n",
       "2  62.0      0      0   240276   9.6875   NaN        Q  \n",
       "3  27.0      0      0   315154   8.6625   NaN        S  \n",
       "4  22.0      1      1  3101298  12.2875   NaN        S  "
      ]
     },
     "execution_count": 4,
     "metadata": {},
     "output_type": "execute_result"
    }
   ],
   "source": [
    "X_test.head()"
   ]
  },
  {
   "cell_type": "markdown",
   "metadata": {},
   "source": [
    "#### The numberic features"
   ]
  },
  {
   "cell_type": "code",
   "execution_count": 5,
   "metadata": {},
   "outputs": [
    {
     "data": {
      "text/html": [
       "<div>\n",
       "<style scoped>\n",
       "    .dataframe tbody tr th:only-of-type {\n",
       "        vertical-align: middle;\n",
       "    }\n",
       "\n",
       "    .dataframe tbody tr th {\n",
       "        vertical-align: top;\n",
       "    }\n",
       "\n",
       "    .dataframe thead th {\n",
       "        text-align: right;\n",
       "    }\n",
       "</style>\n",
       "<table border=\"1\" class=\"dataframe\">\n",
       "  <thead>\n",
       "    <tr style=\"text-align: right;\">\n",
       "      <th></th>\n",
       "      <th>Survived</th>\n",
       "      <th>Pclass</th>\n",
       "      <th>Age</th>\n",
       "      <th>SibSp</th>\n",
       "      <th>Parch</th>\n",
       "      <th>Fare</th>\n",
       "    </tr>\n",
       "  </thead>\n",
       "  <tbody>\n",
       "    <tr>\n",
       "      <th>count</th>\n",
       "      <td>891.000000</td>\n",
       "      <td>891.000000</td>\n",
       "      <td>714.000000</td>\n",
       "      <td>891.000000</td>\n",
       "      <td>891.000000</td>\n",
       "      <td>891.000000</td>\n",
       "    </tr>\n",
       "    <tr>\n",
       "      <th>mean</th>\n",
       "      <td>0.383838</td>\n",
       "      <td>2.308642</td>\n",
       "      <td>29.699118</td>\n",
       "      <td>0.523008</td>\n",
       "      <td>0.381594</td>\n",
       "      <td>32.204208</td>\n",
       "    </tr>\n",
       "    <tr>\n",
       "      <th>std</th>\n",
       "      <td>0.486592</td>\n",
       "      <td>0.836071</td>\n",
       "      <td>14.526497</td>\n",
       "      <td>1.102743</td>\n",
       "      <td>0.806057</td>\n",
       "      <td>49.693429</td>\n",
       "    </tr>\n",
       "    <tr>\n",
       "      <th>min</th>\n",
       "      <td>0.000000</td>\n",
       "      <td>1.000000</td>\n",
       "      <td>0.420000</td>\n",
       "      <td>0.000000</td>\n",
       "      <td>0.000000</td>\n",
       "      <td>0.000000</td>\n",
       "    </tr>\n",
       "    <tr>\n",
       "      <th>25%</th>\n",
       "      <td>0.000000</td>\n",
       "      <td>2.000000</td>\n",
       "      <td>20.125000</td>\n",
       "      <td>0.000000</td>\n",
       "      <td>0.000000</td>\n",
       "      <td>7.910400</td>\n",
       "    </tr>\n",
       "    <tr>\n",
       "      <th>50%</th>\n",
       "      <td>0.000000</td>\n",
       "      <td>3.000000</td>\n",
       "      <td>28.000000</td>\n",
       "      <td>0.000000</td>\n",
       "      <td>0.000000</td>\n",
       "      <td>14.454200</td>\n",
       "    </tr>\n",
       "    <tr>\n",
       "      <th>75%</th>\n",
       "      <td>1.000000</td>\n",
       "      <td>3.000000</td>\n",
       "      <td>38.000000</td>\n",
       "      <td>1.000000</td>\n",
       "      <td>0.000000</td>\n",
       "      <td>31.000000</td>\n",
       "    </tr>\n",
       "    <tr>\n",
       "      <th>max</th>\n",
       "      <td>1.000000</td>\n",
       "      <td>3.000000</td>\n",
       "      <td>80.000000</td>\n",
       "      <td>8.000000</td>\n",
       "      <td>6.000000</td>\n",
       "      <td>512.329200</td>\n",
       "    </tr>\n",
       "  </tbody>\n",
       "</table>\n",
       "</div>"
      ],
      "text/plain": [
       "         Survived      Pclass         Age       SibSp       Parch        Fare\n",
       "count  891.000000  891.000000  714.000000  891.000000  891.000000  891.000000\n",
       "mean     0.383838    2.308642   29.699118    0.523008    0.381594   32.204208\n",
       "std      0.486592    0.836071   14.526497    1.102743    0.806057   49.693429\n",
       "min      0.000000    1.000000    0.420000    0.000000    0.000000    0.000000\n",
       "25%      0.000000    2.000000   20.125000    0.000000    0.000000    7.910400\n",
       "50%      0.000000    3.000000   28.000000    0.000000    0.000000   14.454200\n",
       "75%      1.000000    3.000000   38.000000    1.000000    0.000000   31.000000\n",
       "max      1.000000    3.000000   80.000000    8.000000    6.000000  512.329200"
      ]
     },
     "execution_count": 5,
     "metadata": {},
     "output_type": "execute_result"
    }
   ],
   "source": [
    "X_train.describe()"
   ]
  },
  {
   "cell_type": "markdown",
   "metadata": {},
   "source": [
    "#### The catetorical features"
   ]
  },
  {
   "cell_type": "code",
   "execution_count": 6,
   "metadata": {},
   "outputs": [
    {
     "data": {
      "text/plain": [
       "Ticket\n",
       "110152         3\n",
       "110413         3\n",
       "110465         2\n",
       "110564         1\n",
       "110813         1\n",
       "              ..\n",
       "W./C. 6608     4\n",
       "W./C. 6609     1\n",
       "W.E.P. 5734    1\n",
       "W/C 14208      1\n",
       "WE/P 5735      2\n",
       "Length: 681, dtype: int64"
      ]
     },
     "execution_count": 6,
     "metadata": {},
     "output_type": "execute_result"
    }
   ],
   "source": [
    "X_train.groupby(['Ticket']).size()"
   ]
  },
  {
   "cell_type": "code",
   "execution_count": 7,
   "metadata": {},
   "outputs": [
    {
     "data": {
      "text/plain": [
       "Cabin\n",
       "A10    1\n",
       "A14    1\n",
       "A16    1\n",
       "A19    1\n",
       "A20    1\n",
       "      ..\n",
       "F33    3\n",
       "F38    1\n",
       "F4     2\n",
       "G6     4\n",
       "T      1\n",
       "Length: 147, dtype: int64"
      ]
     },
     "execution_count": 7,
     "metadata": {},
     "output_type": "execute_result"
    }
   ],
   "source": [
    "X_train.groupby(['Cabin']).size()"
   ]
  },
  {
   "cell_type": "code",
   "execution_count": 8,
   "metadata": {},
   "outputs": [
    {
     "data": {
      "text/plain": [
       "Sex\n",
       "female    314\n",
       "male      577\n",
       "dtype: int64"
      ]
     },
     "execution_count": 8,
     "metadata": {},
     "output_type": "execute_result"
    }
   ],
   "source": [
    "X_train.groupby(['Sex']).size()"
   ]
  },
  {
   "cell_type": "code",
   "execution_count": 9,
   "metadata": {},
   "outputs": [
    {
     "data": {
      "text/plain": [
       "Embarked\n",
       "C    168\n",
       "Q     77\n",
       "S    644\n",
       "dtype: int64"
      ]
     },
     "execution_count": 9,
     "metadata": {},
     "output_type": "execute_result"
    }
   ],
   "source": [
    "X_train.groupby(['Embarked']).size()"
   ]
  },
  {
   "cell_type": "code",
   "execution_count": 10,
   "metadata": {},
   "outputs": [
    {
     "name": "stdout",
     "output_type": "stream",
     "text": [
      "About the train dataset: \n",
      "The number of individuals: 891\n",
      "The number of features: 11\n",
      "\n",
      "About the test dataset: \n",
      "The number of individuals: 418\n",
      "The number of features: 11\n"
     ]
    }
   ],
   "source": [
    "print('About the train dataset: ')\n",
    "print(f'The number of individuals: {X_train.shape[0]}')\n",
    "print(f'The number of features: {X_train.shape[1]}')\n",
    "print('\\nAbout the test dataset: ')\n",
    "print(f'The number of individuals: {X_test.shape[0]}')\n",
    "print(f'The number of features: {X_test.shape[1]}')"
   ]
  },
  {
   "cell_type": "markdown",
   "metadata": {},
   "source": [
    "### Descrition about dataset\n",
    "\n",
    "VARIABLE DESCRIPTIONS:  \n",
    "survival        Survival  \n",
    "                (0 = No; 1 = Yes)  \n",
    "pclass          Passenger Class  \n",
    "                (1 = 1st; 2 = 2nd; 3 = 3rd)  \n",
    "name            Name  \n",
    "sex             Sex  \n",
    "age             Age  \n",
    "sibsp           Number of Siblings/Spouses Aboard  \n",
    "parch           Number of Parents/Children Aboard  \n",
    "ticket          Ticket Number  \n",
    "fare            Passenger Fare  \n",
    "cabin           Cabin  \n",
    "embarked        Port of Embarkation  \n",
    "                (C = Cherbourg; Q = Queenstown; S = Southampton)  \n",
    "\n",
    "SPECIAL NOTES:  \n",
    "Pclass is a proxy for socio-economic status (SES)  \n",
    " 1st ~ Upper; 2nd ~ Middle; 3rd ~ Lower  \n",
    "  \n",
    "Age is in Years; Fractional if Age less than One (1)  \n",
    " If the Age is Estimated, it is in the form xx.5  \n",
    "\n",
    "With respect to the family relation variables (i.e. sibsp and parch)  \n",
    "some relations were ignored.  The following are the definitions used  \n",
    "for sibsp and parch.  \n",
    "\n",
    "Sibling:  Brother, Sister, Stepbrother, or Stepsister of Passenger Aboard Titanic  \n",
    "Spouse:   Husband or Wife of Passenger Aboard Titanic (Mistresses and Fiances Ignored)  \n",
    "Parent:   Mother or Father of Passenger Aboard Titanic  \n",
    "Child:    Son, Daughter, Stepson, or Stepdaughter of Passenger Aboard Titanic  \n",
    "  \n",
    "Other family relatives excluded from this study include cousins,  \n",
    "nephews/nieces, aunts/uncles, and in-laws.  Some children travelled  \n",
    "only with a nanny, therefore parch=0 for them.  As well, some  \n",
    "travelled with very close friends or neighbors in a village, however,  \n",
    "the definitions do not support such relations.  "
   ]
  },
  {
   "cell_type": "markdown",
   "metadata": {},
   "source": [
    "## Pre-Processing Data"
   ]
  },
  {
   "cell_type": "markdown",
   "metadata": {},
   "source": [
    "### Catacorial convert to numberic"
   ]
  },
  {
   "cell_type": "code",
   "execution_count": 11,
   "metadata": {},
   "outputs": [],
   "source": [
    "# Training Dataset\n",
    "X_train['Sex'] = pd.Categorical(X_train['Sex'])\n",
    "X_train['Sex'].replace(['female', 'male'],\n",
    "                        [0, 1],\n",
    "                       inplace=True\n",
    "                      )\n",
    "X_train['Embarked'] = pd.Categorical(X_train['Embarked'])\n",
    "X_train['Embarked'].replace(['C', 'Q', 'S'],\n",
    "                        [0, 1, 2],\n",
    "                       inplace=True\n",
    "                      )\n",
    "# Testing Dataset\n",
    "X_test['Sex'] = pd.Categorical(X_test['Sex'])\n",
    "X_test['Sex'].replace(['female', 'male'],\n",
    "                        [0, 1],\n",
    "                       inplace=True\n",
    "                      )\n",
    "X_test['Embarked'] = pd.Categorical(X_test['Embarked'])\n",
    "X_test['Embarked'].replace(['C', 'Q', 'S'],\n",
    "                        [0, 1, 2],\n",
    "                       inplace=True\n",
    "                      )"
   ]
  },
  {
   "cell_type": "markdown",
   "metadata": {},
   "source": [
    "### Features Selection\n",
    "\n",
    "The features such as *Cabin*, *Ticket* will be ignored due to not including important information."
   ]
  },
  {
   "cell_type": "code",
   "execution_count": 12,
   "metadata": {},
   "outputs": [],
   "source": [
    "features = ['Sex', 'Embarked' ,'Pclass', 'Age', 'SibSp', 'Parch', 'Fare']\n",
    "drops = ['Cabin', 'PassengerId', 'Ticket', 'Name']"
   ]
  },
  {
   "cell_type": "markdown",
   "metadata": {},
   "source": [
    "### Sovling Duplication"
   ]
  },
  {
   "cell_type": "code",
   "execution_count": 13,
   "metadata": {},
   "outputs": [
    {
     "data": {
      "text/plain": [
       "0"
      ]
     },
     "execution_count": 13,
     "metadata": {},
     "output_type": "execute_result"
    }
   ],
   "source": [
    "### Checking for duplicate values\n",
    "X_train.index.duplicated().sum()"
   ]
  },
  {
   "cell_type": "markdown",
   "metadata": {},
   "source": [
    "### Dealing with the missing data"
   ]
  },
  {
   "cell_type": "code",
   "execution_count": 14,
   "metadata": {},
   "outputs": [
    {
     "data": {
      "text/plain": [
       "Survived      0\n",
       "Pclass        0\n",
       "Name          0\n",
       "Sex           0\n",
       "Age         177\n",
       "SibSp         0\n",
       "Parch         0\n",
       "Ticket        0\n",
       "Fare          0\n",
       "Cabin       687\n",
       "Embarked      2\n",
       "dtype: int64"
      ]
     },
     "execution_count": 14,
     "metadata": {},
     "output_type": "execute_result"
    }
   ],
   "source": [
    "## Missing Data Checking:\n",
    "X_train.isnull().sum()"
   ]
  },
  {
   "cell_type": "code",
   "execution_count": 15,
   "metadata": {},
   "outputs": [
    {
     "data": {
      "text/plain": [
       "PassengerId      0\n",
       "Pclass           0\n",
       "Name             0\n",
       "Sex              0\n",
       "Age             86\n",
       "SibSp            0\n",
       "Parch            0\n",
       "Ticket           0\n",
       "Fare             1\n",
       "Cabin          327\n",
       "Embarked         0\n",
       "dtype: int64"
      ]
     },
     "execution_count": 15,
     "metadata": {},
     "output_type": "execute_result"
    }
   ],
   "source": [
    "## Missing Data Checking:\n",
    "X_test.isnull().sum()"
   ]
  },
  {
   "cell_type": "markdown",
   "metadata": {},
   "source": [
    "#### Drop the unimportant features\n",
    "\n",
    "In this case, the features **cabin** has too many different values and missing values. Therefore, we can ignore this features. Also we can drop the record has the missing value of the feature **Fare**."
   ]
  },
  {
   "cell_type": "code",
   "execution_count": 16,
   "metadata": {},
   "outputs": [],
   "source": [
    "# Drop all the record that has the missing value in Feature EMBARKED and FARE\n",
    "X_train = X_train.dropna(subset=['Embarked'], how='any')\n",
    "X_test = X_test.dropna(subset=['Fare'], how='any')\n",
    "idx_test = X_test['PassengerId']\n",
    "# Drop the unimportant features\n",
    "# X_train = X_train.drop(['Cabin', 'Ticket'], axis=1)\n",
    "# X_test = X_test.drop(['Cabin', 'Ticket'], axis=1)"
   ]
  },
  {
   "cell_type": "markdown",
   "metadata": {},
   "source": [
    "#### Fill the missing value with previous value"
   ]
  },
  {
   "cell_type": "code",
   "execution_count": 17,
   "metadata": {},
   "outputs": [],
   "source": [
    "# Fill the missing value with previous value in the table\n",
    "# X_train_pre = X_train.fillna(method='pad')\n",
    "# X_test_pre = X_test.fillna(method='pad')\n",
    "# print(f'The train dataset: {X_train_pre.shape[0]}')\n",
    "# print(f'The test dataset : {X_test_pre.shape[0]}')"
   ]
  },
  {
   "cell_type": "markdown",
   "metadata": {},
   "source": [
    "#### Fill the missing value with mean value"
   ]
  },
  {
   "cell_type": "markdown",
   "metadata": {},
   "source": [
    "In this case, this method could be a good way to deal with missing values in dataset."
   ]
  },
  {
   "cell_type": "code",
   "execution_count": 18,
   "metadata": {},
   "outputs": [
    {
     "name": "stdout",
     "output_type": "stream",
     "text": [
      "The train dataset: 889\n"
     ]
    }
   ],
   "source": [
    "# Fill the missing value with previous value in the table\n",
    "X_train['Age'] = X_train['Age'].fillna(value=X_train['Age'].mean())\n",
    "X_test['Age'] = X_test['Age'].fillna(value=X_test['Age'].mean())\n",
    "# X_test_pre = X_test.fillna(method='pad')\n",
    "print(f'The train dataset: {X_train.shape[0]}')\n",
    "# print(f'The test dataset : {X_test_pre.shape[0]}')"
   ]
  },
  {
   "cell_type": "code",
   "execution_count": 19,
   "metadata": {},
   "outputs": [
    {
     "data": {
      "text/plain": [
       "Survived      0\n",
       "Pclass        0\n",
       "Name          0\n",
       "Sex           0\n",
       "Age           0\n",
       "SibSp         0\n",
       "Parch         0\n",
       "Ticket        0\n",
       "Fare          0\n",
       "Cabin       687\n",
       "Embarked      0\n",
       "dtype: int64"
      ]
     },
     "execution_count": 19,
     "metadata": {},
     "output_type": "execute_result"
    }
   ],
   "source": [
    "X_train.isnull().sum()"
   ]
  },
  {
   "cell_type": "code",
   "execution_count": 20,
   "metadata": {},
   "outputs": [
    {
     "data": {
      "text/plain": [
       "PassengerId      0\n",
       "Pclass           0\n",
       "Name             0\n",
       "Sex              0\n",
       "Age              0\n",
       "SibSp            0\n",
       "Parch            0\n",
       "Ticket           0\n",
       "Fare             0\n",
       "Cabin          326\n",
       "Embarked         0\n",
       "dtype: int64"
      ]
     },
     "execution_count": 20,
     "metadata": {},
     "output_type": "execute_result"
    }
   ],
   "source": [
    "X_test.isnull().sum()"
   ]
  },
  {
   "cell_type": "markdown",
   "metadata": {},
   "source": [
    "### Checking if the the dataset is balanced"
   ]
  },
  {
   "cell_type": "code",
   "execution_count": 21,
   "metadata": {},
   "outputs": [
    {
     "name": "stdout",
     "output_type": "stream",
     "text": [
      "0    549\n",
      "1    340\n",
      "Name: Survived, dtype: int64\n"
     ]
    },
    {
     "data": {
      "image/png": "[encoded data removed]",
      "text/plain": [
       "<Figure size 432x288 with 1 Axes>"
      ]
     },
     "metadata": {
      "needs_background": "light"
     },
     "output_type": "display_data"
    }
   ],
   "source": [
    "### Checking if the dataset is balanced.\n",
    "count_Class=pd.value_counts(X_train[\"Survived\"], sort= True)\n",
    "print(count_Class)\n",
    "count_Class.plot(kind= 'bar', color= [\"blue\", \"orange\"])\n",
    "plt.show()"
   ]
  },
  {
   "cell_type": "code",
   "execution_count": 22,
   "metadata": {},
   "outputs": [
    {
     "data": {
      "image/png": "[encoded data removed]",
      "text/plain": [
       "<Figure size 432x288 with 1 Axes>"
      ]
     },
     "metadata": {},
     "output_type": "display_data"
    }
   ],
   "source": [
    "count_Class.plot(kind = 'pie',  autopct='%1.0f%%')\n",
    "plt.title('Pie chart')\n",
    "plt.ylabel('')\n",
    "plt.show()"
   ]
  },
  {
   "cell_type": "markdown",
   "metadata": {},
   "source": [
    "### SMOTE Sampling for unbalanced dataset"
   ]
  },
  {
   "cell_type": "code",
   "execution_count": 23,
   "metadata": {
    "scrolled": true
   },
   "outputs": [],
   "source": [
    "from imblearn.over_sampling import SMOTE\n",
    "y_train = X_train['Survived'].values\n",
    "# y_test = X_test['Survived'].values --> Label is the different file\n",
    "# Read the labels of test dataset\n",
    "y_test = pd.read_csv('./datasets/gender_submission.csv', index_col=0)\n",
    "y_test = y_test['Survived'][idx_test]\n",
    "# Test Dataset and Train Dataset features\n",
    "X_test = X_test[features].values\n",
    "X_train = X_train[features].values"
   ]
  },
  {
   "cell_type": "code",
   "execution_count": 24,
   "metadata": {},
   "outputs": [],
   "source": [
    "# Transform the dataset\n",
    "oversample = SMOTE()\n",
    "X_train, y_train  = oversample.fit_resample(X_train, y_train)"
   ]
  },
  {
   "cell_type": "markdown",
   "metadata": {},
   "source": [
    "### Classification with GaussianNB Model"
   ]
  },
  {
   "cell_type": "code",
   "execution_count": 25,
   "metadata": {},
   "outputs": [
    {
     "data": {
      "text/plain": [
       "GaussianNB()"
      ]
     },
     "execution_count": 25,
     "metadata": {},
     "output_type": "execute_result"
    }
   ],
   "source": [
    "from sklearn.naive_bayes import GaussianNB\n",
    "model = GaussianNB()\n",
    "# fit it to training data\n",
    "model.fit(X_train,y_train)\n",
    "model"
   ]
  },
  {
   "cell_type": "markdown",
   "metadata": {},
   "source": [
    "#### Prediction Status"
   ]
  },
  {
   "cell_type": "code",
   "execution_count": 26,
   "metadata": {},
   "outputs": [
    {
     "name": "stdout",
     "output_type": "stream",
     "text": [
      "[0 1 0 0 1 0 1 0 1 0 0 0 1 0 1 1 0 0 1 1 1 0 1 1 1 0 1 0 0 0 0 0 1 1 1 0 1\n",
      " 1 0 0 0 0 0 1 1 0 1 0 1 1 1 0 1 1 0 0 0 0 0 1 0 0 0 1 1 1 1 0 1 1 1 0 1 1\n",
      " 1 1 0 1 0 1 0 1 0 0 0 0 1 1 1 0 1 0 1 0 1 0 1 0 1 0 1 0 0 0 1 0 0 0 0 0 0\n",
      " 1 1 1 1 0 0 1 1 1 1 0 1 0 0 1 0 0 0 0 0 1 1 0 0 0 0 0 1 0 0 1 1 0 0 0 0 0\n",
      " 0 0 1 0 1 0 0 1 1 0 1 1 0 1 0 0 1 1 0 1 1 0 0 0 0 0 1 1 1 1 1 0 1 1 0 1 0\n",
      " 1 0 0 0 0 0 0 0 0 0 1 1 0 1 1 0 1 1 0 1 1 0 1 0 0 0 0 1 0 0 1 1 1 0 1 0 1\n",
      " 0 1 1 0 1 0 0 0 1 0 0 1 0 1 0 1 1 1 1 1 0 0 0 1 0 1 1 1 0 1 0 0 0 0 0 1 0\n",
      " 0 0 1 1 0 0 0 0 1 0 1 0 1 1 0 1 0 0 0 0 1 0 1 1 1 0 0 1 0 0 0 1 0 1 0 0 1\n",
      " 0 0 0 0 0 0 0 1 1 1 0 1 1 0 0 0 1 1 1 1 0 0 0 0 0 0 0 1 0 1 1 0 0 1 1 0 1\n",
      " 0 0 0 0 0 0 0 0 0 1 0 1 0 1 0 1 1 0 0 0 1 0 1 0 0 1 0 1 1 0 1 0 0 1 1 0 0\n",
      " 1 0 0 1 1 0 0 0 0 0 0 1 1 0 1 0 0 0 0 1 1 0 0 0 1 0 1 0 0 1 0 1 0 1 0 0 1\n",
      " 1 1 1 1 1 0 1 0 0 0]\n"
     ]
    }
   ],
   "source": [
    "# predict using test data\n",
    "y_pred = model.predict(X_test)\n",
    "print(y_pred)"
   ]
  },
  {
   "cell_type": "markdown",
   "metadata": {},
   "source": [
    "#### Predicted probabilities"
   ]
  },
  {
   "cell_type": "code",
   "execution_count": 27,
   "metadata": {},
   "outputs": [
    {
     "name": "stdout",
     "output_type": "stream",
     "text": [
      "[[9.18200691e-01 8.17993087e-02]\n",
      " [3.40535733e-01 6.59464267e-01]\n",
      " [8.38445498e-01 1.61554502e-01]\n",
      " [9.42421310e-01 5.75786905e-02]\n",
      " [2.48998063e-01 7.51001937e-01]\n",
      " [9.28989424e-01 7.10105757e-02]\n",
      " [2.08852210e-01 7.91147790e-01]\n",
      " [8.55639943e-01 1.44360057e-01]\n",
      " [7.21836923e-02 9.27816308e-01]\n",
      " [9.90517162e-01 9.48283790e-03]\n",
      " [9.44326771e-01 5.56732294e-02]\n",
      " [6.99423286e-01 3.00576714e-01]\n",
      " [8.52692317e-03 9.91473077e-01]\n",
      " [8.97439156e-01 1.02560844e-01]\n",
      " [2.75109911e-02 9.72489009e-01]\n",
      " [3.95422814e-02 9.60457719e-01]\n",
      " [8.36586807e-01 1.63413193e-01]\n",
      " [7.68871022e-01 2.31128978e-01]\n",
      " [3.08193064e-01 6.91806936e-01]\n",
      " [9.46729665e-02 9.05327033e-01]\n",
      " [2.15009137e-01 7.84990863e-01]\n",
      " [8.97542826e-01 1.02457174e-01]\n",
      " [4.60717841e-02 9.53928216e-01]\n",
      " [1.24388668e-01 8.75611332e-01]\n",
      " [1.35478451e-13 1.00000000e+00]\n",
      " [9.55783103e-01 4.42168971e-02]\n",
      " [3.47436937e-03 9.96525631e-01]\n",
      " [7.73300979e-01 2.26699021e-01]\n",
      " [6.85340004e-01 3.14659996e-01]\n",
      " [9.64583169e-01 3.54168314e-02]\n",
      " [9.01964216e-01 9.80357836e-02]\n",
      " [9.78400254e-01 2.15997462e-02]\n",
      " [2.58290286e-01 7.41709714e-01]\n",
      " [2.49599326e-01 7.50400674e-01]\n",
      " [2.06300051e-01 7.93699949e-01]\n",
      " [7.60820721e-01 2.39179279e-01]\n",
      " [2.95368388e-01 7.04631612e-01]\n",
      " [2.69237736e-01 7.30762264e-01]\n",
      " [9.41111135e-01 5.88888654e-02]\n",
      " [8.97145595e-01 1.02854405e-01]\n",
      " [7.68973349e-01 2.31026651e-01]\n",
      " [6.74409792e-01 3.25590208e-01]\n",
      " [9.48970546e-01 5.10294544e-02]\n",
      " [1.59625645e-01 8.40374355e-01]\n",
      " [3.63937453e-02 9.63606255e-01]\n",
      " [9.40609715e-01 5.93902854e-02]\n",
      " [3.34639767e-01 6.65360233e-01]\n",
      " [9.14704055e-01 8.52959447e-02]\n",
      " [2.87324706e-03 9.97126753e-01]\n",
      " [2.46143388e-01 7.53856612e-01]\n",
      " [4.95581385e-01 5.04418615e-01]\n",
      " [6.25529833e-01 3.74470167e-01]\n",
      " [4.71848039e-01 5.28151961e-01]\n",
      " [1.02163421e-10 1.00000000e+00]\n",
      " [6.34963473e-01 3.65036527e-01]\n",
      " [9.99996773e-01 3.22731966e-06]\n",
      " [9.46881436e-01 5.31185638e-02]\n",
      " [9.40509995e-01 5.94900046e-02]\n",
      " [9.50623130e-01 4.93768699e-02]\n",
      " [1.52342964e-13 1.00000000e+00]\n",
      " [9.32440798e-01 6.75592015e-02]\n",
      " [8.87341944e-01 1.12658056e-01]\n",
      " [9.33585058e-01 6.64149424e-02]\n",
      " [1.90781965e-01 8.09218035e-01]\n",
      " [2.21152891e-11 1.00000000e+00]\n",
      " [1.58705030e-01 8.41294970e-01]\n",
      " [1.80196932e-01 8.19803068e-01]\n",
      " [6.44518749e-01 3.55481251e-01]\n",
      " [3.15663907e-01 6.84336093e-01]\n",
      " [6.31444157e-13 1.00000000e+00]\n",
      " [1.95794125e-01 8.04205875e-01]\n",
      " [9.36923088e-01 6.30769119e-02]\n",
      " [2.92242228e-01 7.07757772e-01]\n",
      " [3.11027739e-01 6.88972261e-01]\n",
      " [1.65869780e-09 9.99999998e-01]\n",
      " [6.55871419e-08 9.99999934e-01]\n",
      " [9.44378088e-01 5.56219122e-02]\n",
      " [2.88773048e-01 7.11226952e-01]\n",
      " [8.84972471e-01 1.15027529e-01]\n",
      " [1.95794125e-01 8.04205875e-01]\n",
      " [6.83305674e-01 3.16694326e-01]\n",
      " [5.88296918e-08 9.99999941e-01]\n",
      " [7.00352524e-01 2.99647476e-01]\n",
      " [9.44326771e-01 5.56732294e-02]\n",
      " [8.28892983e-01 1.71107017e-01]\n",
      " [8.12345746e-01 1.87654254e-01]\n",
      " [2.02874156e-01 7.97125844e-01]\n",
      " [2.58003146e-01 7.41996854e-01]\n",
      " [2.09336827e-01 7.90663173e-01]\n",
      " [7.89040983e-01 2.10959017e-01]\n",
      " [2.97178766e-01 7.02821234e-01]\n",
      " [9.44285816e-01 5.57141844e-02]\n",
      " [2.31905864e-02 9.76809414e-01]\n",
      " [9.44378088e-01 5.56219122e-02]\n",
      " [3.04163322e-01 6.95836678e-01]\n",
      " [9.40563319e-01 5.94366806e-02]\n",
      " [1.03813946e-02 9.89618605e-01]\n",
      " [9.43581321e-01 5.64186792e-02]\n",
      " [2.64853286e-01 7.35146714e-01]\n",
      " [9.45970275e-01 5.40297249e-02]\n",
      " [7.63958519e-03 9.92360415e-01]\n",
      " [8.87222109e-01 1.12777891e-01]\n",
      " [9.14704055e-01 8.52959447e-02]\n",
      " [9.41361867e-01 5.86381334e-02]\n",
      " [6.16723737e-02 9.38327626e-01]\n",
      " [9.43166197e-01 5.68338027e-02]\n",
      " [9.03802417e-01 9.61975832e-02]\n",
      " [9.14704055e-01 8.52959447e-02]\n",
      " [9.44586358e-01 5.54136418e-02]\n",
      " [8.65879090e-01 1.34120910e-01]\n",
      " [6.56046026e-01 3.43953974e-01]\n",
      " [2.09368267e-01 7.90631733e-01]\n",
      " [1.13862602e-02 9.88613740e-01]\n",
      " [1.81001400e-01 8.18998600e-01]\n",
      " [1.50504492e-09 9.99999998e-01]\n",
      " [7.82177879e-01 2.17822121e-01]\n",
      " [7.90665862e-01 2.09334138e-01]\n",
      " [1.70979097e-01 8.29020903e-01]\n",
      " [1.06772536e-01 8.93227464e-01]\n",
      " [1.66218412e-01 8.33781588e-01]\n",
      " [1.22676821e-01 8.77323179e-01]\n",
      " [9.22332533e-01 7.76674674e-02]\n",
      " [6.71306957e-03 9.93286930e-01]\n",
      " [9.42657461e-01 5.73425393e-02]\n",
      " [9.14704055e-01 8.52959447e-02]\n",
      " [2.15558584e-01 7.84441416e-01]\n",
      " [9.37875838e-01 6.21241621e-02]\n",
      " [6.52151188e-01 3.47848812e-01]\n",
      " [8.94716262e-01 1.05283738e-01]\n",
      " [9.39805123e-01 6.01948770e-02]\n",
      " [9.45438196e-01 5.45618037e-02]\n",
      " [3.38668094e-01 6.61331906e-01]\n",
      " [2.77233131e-01 7.22766869e-01]\n",
      " [8.07047646e-01 1.92952354e-01]\n",
      " [9.49441150e-01 5.05588498e-02]\n",
      " [9.39734747e-01 6.02652526e-02]\n",
      " [7.83716083e-01 2.16283917e-01]\n",
      " [8.79560042e-01 1.20439958e-01]\n",
      " [2.75077713e-01 7.24922287e-01]\n",
      " [9.68268427e-01 3.17315730e-02]\n",
      " [9.99999897e-01 1.03046721e-07]\n",
      " [2.68301394e-05 9.99973170e-01]\n",
      " [5.30001992e-12 1.00000000e+00]\n",
      " [8.78040560e-01 1.21959440e-01]\n",
      " [6.95407638e-01 3.04592362e-01]\n",
      " [9.99780495e-01 2.19504809e-04]\n",
      " [5.58521792e-01 4.41478208e-01]\n",
      " [9.37970178e-01 6.20298222e-02]\n",
      " [6.74409792e-01 3.25590208e-01]\n",
      " [8.65421120e-01 1.34578880e-01]\n",
      " [1.30661281e-03 9.98693387e-01]\n",
      " [7.92350210e-01 2.07649790e-01]\n",
      " [2.45235741e-01 7.54764259e-01]\n",
      " [9.99997851e-01 2.14911184e-06]\n",
      " [9.39621692e-01 6.03783082e-02]\n",
      " [1.25416535e-09 9.99999999e-01]\n",
      " [2.74829849e-01 7.25170151e-01]\n",
      " [6.95407638e-01 3.04592362e-01]\n",
      " [2.25621558e-01 7.74378442e-01]\n",
      " [2.09318794e-01 7.90681206e-01]\n",
      " [6.88855248e-01 3.11144752e-01]\n",
      " [1.52885744e-01 8.47114256e-01]\n",
      " [9.44007231e-01 5.59927694e-02]\n",
      " [8.94241524e-01 1.05758476e-01]\n",
      " [2.58342768e-01 7.41657232e-01]\n",
      " [2.49467666e-01 7.50532334e-01]\n",
      " [9.84442973e-01 1.55570270e-02]\n",
      " [1.12491378e-02 9.88750862e-01]\n",
      " [2.72907311e-01 7.27092689e-01]\n",
      " [9.44207764e-01 5.57922356e-02]\n",
      " [7.84880786e-01 2.15119214e-01]\n",
      " [9.45675281e-01 5.43247188e-02]\n",
      " [7.91617499e-01 2.08382501e-01]\n",
      " [9.61599186e-01 3.84008139e-02]\n",
      " [7.87212239e-02 9.21278776e-01]\n",
      " [1.20214162e-01 8.79785838e-01]\n",
      " [2.39460751e-01 7.60539249e-01]\n",
      " [1.09153746e-01 8.90846254e-01]\n",
      " [1.39506792e-03 9.98604932e-01]\n",
      " [8.84972471e-01 1.15027529e-01]\n",
      " [6.47789549e-02 9.35221045e-01]\n",
      " [2.68874151e-02 9.73112585e-01]\n",
      " [9.14704055e-01 8.52959447e-02]\n",
      " [2.26955821e-12 1.00000000e+00]\n",
      " [8.93975913e-01 1.06024087e-01]\n",
      " [1.15023163e-01 8.84976837e-01]\n",
      " [9.89863950e-01 1.01360501e-02]\n",
      " [1.00000000e+00 2.38515906e-21]\n",
      " [8.93708628e-01 1.06291372e-01]\n",
      " [8.95060432e-01 1.04939568e-01]\n",
      " [6.75470667e-01 3.24529333e-01]\n",
      " [9.16425849e-01 8.35741513e-02]\n",
      " [8.40732326e-01 1.59267674e-01]\n",
      " [7.66733296e-01 2.33266704e-01]\n",
      " [9.45906692e-01 5.40933076e-02]\n",
      " [6.47920094e-04 9.99352080e-01]\n",
      " [2.57667268e-01 7.42332732e-01]\n",
      " [8.73794581e-01 1.26205419e-01]\n",
      " [2.95449607e-01 7.04550393e-01]\n",
      " [2.13620603e-01 7.86379397e-01]\n",
      " [8.70897440e-01 1.29102560e-01]\n",
      " [5.33054357e-09 9.99999995e-01]\n",
      " [9.58437506e-02 9.04156249e-01]\n",
      " [8.77151928e-01 1.22848072e-01]\n",
      " [3.19384051e-01 6.80615949e-01]\n",
      " [2.17677420e-01 7.82322580e-01]\n",
      " [8.75515252e-01 1.24484748e-01]\n",
      " [1.15960896e-02 9.88403910e-01]\n",
      " [9.40599299e-01 5.94007007e-02]\n",
      " [9.45652972e-01 5.43470282e-02]\n",
      " [9.44026035e-01 5.59739652e-02]\n",
      " [6.12009795e-01 3.87990205e-01]\n",
      " [1.80664702e-01 8.19335298e-01]\n",
      " [9.99943926e-01 5.60741254e-05]\n",
      " [6.40274224e-01 3.59725776e-01]\n",
      " [2.09475082e-01 7.90524918e-01]\n",
      " [2.11645445e-04 9.99788355e-01]\n",
      " [1.54462387e-09 9.99999998e-01]\n",
      " [9.44378088e-01 5.56219122e-02]\n",
      " [4.52486844e-02 9.54751316e-01]\n",
      " [9.36980774e-01 6.30192258e-02]\n",
      " [1.43963381e-01 8.56036619e-01]\n",
      " [9.36885031e-01 6.31149692e-02]\n",
      " [1.26185428e-02 9.87381457e-01]\n",
      " [6.48030870e-02 9.35196913e-01]\n",
      " [9.38818082e-01 6.11819182e-02]\n",
      " [2.09336827e-01 7.90663173e-01]\n",
      " [9.50034649e-01 4.99653512e-02]\n",
      " [8.90979121e-01 1.09020879e-01]\n",
      " [6.83750088e-01 3.16249912e-01]\n",
      " [4.28633408e-02 9.57136659e-01]\n",
      " [9.42159048e-01 5.78409523e-02]\n",
      " [9.14769188e-01 8.52308121e-02]\n",
      " [1.40464040e-01 8.59535960e-01]\n",
      " [9.35866566e-01 6.41334336e-02]\n",
      " [1.16836085e-01 8.83163915e-01]\n",
      " [7.65751439e-01 2.34248561e-01]\n",
      " [1.20934410e-01 8.79065590e-01]\n",
      " [4.97944415e-04 9.99502056e-01]\n",
      " [1.25258301e-02 9.87474170e-01]\n",
      " [1.23008598e-01 8.76991402e-01]\n",
      " [1.38430390e-03 9.98615696e-01]\n",
      " [9.44323978e-01 5.56760221e-02]\n",
      " [9.30903452e-01 6.90965483e-02]\n",
      " [6.05743852e-01 3.94256148e-01]\n",
      " [1.43841748e-01 8.56158252e-01]\n",
      " [8.68459035e-01 1.31540965e-01]\n",
      " [1.66218412e-01 8.33781588e-01]\n",
      " [9.65572803e-02 9.03442720e-01]\n",
      " [7.28597470e-02 9.27140253e-01]\n",
      " [9.35893765e-01 6.41062355e-02]\n",
      " [1.20920126e-03 9.98790799e-01]\n",
      " [9.40217976e-01 5.97820245e-02]\n",
      " [9.46129231e-01 5.38707686e-02]\n",
      " [9.44207764e-01 5.57922356e-02]\n",
      " [9.14704055e-01 8.52959447e-02]\n",
      " [9.42942187e-01 5.70578127e-02]\n",
      " [1.38578988e-01 8.61421012e-01]\n",
      " [9.36877051e-01 6.31229493e-02]\n",
      " [9.53414866e-01 4.65851343e-02]\n",
      " [9.36907318e-01 6.30926818e-02]\n",
      " [1.16650765e-01 8.83349235e-01]\n",
      " [1.70348019e-01 8.29651981e-01]\n",
      " [6.33662721e-01 3.66337279e-01]\n",
      " [9.44326771e-01 5.56732294e-02]\n",
      " [6.62933011e-01 3.37066989e-01]\n",
      " [9.44207764e-01 5.57922356e-02]\n",
      " [2.95368388e-01 7.04631612e-01]\n",
      " [9.32733848e-01 6.72661517e-02]\n",
      " [1.11959456e-01 8.88040544e-01]\n",
      " [9.14704055e-01 8.52959447e-02]\n",
      " [2.94760242e-05 9.99970524e-01]\n",
      " [2.31254323e-01 7.68745677e-01]\n",
      " [7.91612684e-01 2.08387316e-01]\n",
      " [1.48225034e-01 8.51774966e-01]\n",
      " [8.81580618e-01 1.18419382e-01]\n",
      " [8.99319193e-01 1.00680807e-01]\n",
      " [8.94104005e-01 1.05895995e-01]\n",
      " [8.71987477e-01 1.28012523e-01]\n",
      " [2.75813111e-01 7.24186889e-01]\n",
      " [8.92300518e-01 1.07699482e-01]\n",
      " [2.09336827e-01 7.90663173e-01]\n",
      " [5.43272580e-02 9.45672742e-01]\n",
      " [1.73910908e-01 8.26089092e-01]\n",
      " [9.47096376e-01 5.29036241e-02]\n",
      " [9.44100102e-01 5.58998983e-02]\n",
      " [2.61368646e-01 7.38631354e-01]\n",
      " [7.91617499e-01 2.08382501e-01]\n",
      " [9.44378088e-01 5.56219122e-02]\n",
      " [6.31843459e-01 3.68156541e-01]\n",
      " [2.08079185e-01 7.91920815e-01]\n",
      " [7.91617499e-01 2.08382501e-01]\n",
      " [2.57530397e-01 7.42469603e-01]\n",
      " [9.47768783e-01 5.22312171e-02]\n",
      " [9.41404838e-01 5.85951624e-02]\n",
      " [1.40563190e-02 9.85943681e-01]\n",
      " [9.64583169e-01 3.54168314e-02]\n",
      " [6.00314077e-01 3.99685923e-01]\n",
      " [9.43557188e-01 5.64428125e-02]\n",
      " [9.45347581e-01 5.46524190e-02]\n",
      " [6.34930399e-01 3.65069601e-01]\n",
      " [8.69377092e-01 1.30622908e-01]\n",
      " [9.40013241e-01 5.99867588e-02]\n",
      " [2.09336827e-01 7.90663173e-01]\n",
      " [4.50907433e-02 9.54909257e-01]\n",
      " [8.34976381e-04 9.99165024e-01]\n",
      " [8.80786375e-01 1.19213625e-01]\n",
      " [1.47205848e-01 8.52794152e-01]\n",
      " [3.46200721e-01 6.53799279e-01]\n",
      " [9.33931607e-01 6.60683928e-02]\n",
      " [7.71857111e-01 2.28142889e-01]\n",
      " [9.44216551e-01 5.57834493e-02]\n",
      " [2.20513609e-01 7.79486391e-01]\n",
      " [3.51208534e-05 9.99964879e-01]\n",
      " [1.77232985e-01 8.22767015e-01]\n",
      " [5.05716745e-04 9.99494283e-01]\n",
      " [8.66021398e-01 1.33978602e-01]\n",
      " [9.42153307e-01 5.78466926e-02]\n",
      " [9.77713921e-01 2.22860793e-02]\n",
      " [9.41361867e-01 5.86381334e-02]\n",
      " [7.80047179e-01 2.19952821e-01]\n",
      " [8.79560042e-01 1.20439958e-01]\n",
      " [6.81120465e-01 3.18879535e-01]\n",
      " [7.80629453e-09 9.99999992e-01]\n",
      " [9.38526681e-01 6.14733193e-02]\n",
      " [3.82965711e-01 6.17034289e-01]\n",
      " [9.34408031e-02 9.06559197e-01]\n",
      " [8.89803187e-01 1.10196813e-01]\n",
      " [8.70996199e-01 1.29003801e-01]\n",
      " [1.13348006e-01 8.86651994e-01]\n",
      " [3.28346120e-01 6.71653880e-01]\n",
      " [7.91612684e-01 2.08387316e-01]\n",
      " [6.63861780e-02 9.33613822e-01]\n",
      " [9.42167847e-01 5.78321530e-02]\n",
      " [6.75002008e-01 3.24997992e-01]\n",
      " [8.87243344e-01 1.12756656e-01]\n",
      " [7.47120899e-01 2.52879101e-01]\n",
      " [8.66764435e-01 1.33235565e-01]\n",
      " [7.91617499e-01 2.08382501e-01]\n",
      " [8.63841777e-01 1.36158223e-01]\n",
      " [9.45281006e-01 5.47189935e-02]\n",
      " [9.92739702e-01 7.26029765e-03]\n",
      " [5.62496042e-47 1.00000000e+00]\n",
      " [9.38044708e-01 6.19552919e-02]\n",
      " [2.50107408e-01 7.49892592e-01]\n",
      " [8.79560042e-01 1.20439958e-01]\n",
      " [9.17004682e-02 9.08299532e-01]\n",
      " [8.76494429e-01 1.23505571e-01]\n",
      " [1.59965500e-01 8.40034500e-01]\n",
      " [4.12006790e-03 9.95879932e-01]\n",
      " [8.77151928e-01 1.22848072e-01]\n",
      " [6.16570809e-01 3.83429191e-01]\n",
      " [7.15984376e-01 2.84015624e-01]\n",
      " [1.53858839e-01 8.46141161e-01]\n",
      " [7.00413305e-01 2.99586695e-01]\n",
      " [1.96714903e-01 8.03285097e-01]\n",
      " [9.44321182e-01 5.56788180e-02]\n",
      " [9.14704055e-01 8.52959447e-02]\n",
      " [3.21733462e-01 6.78266538e-01]\n",
      " [1.00000000e+00 7.61350460e-23]\n",
      " [2.77018329e-02 9.72298167e-01]\n",
      " [1.59965500e-01 8.40034500e-01]\n",
      " [9.42421310e-01 5.75786905e-02]\n",
      " [6.44959536e-03 9.93550405e-01]\n",
      " [7.71472860e-01 2.28527140e-01]\n",
      " [8.12346356e-01 1.87653644e-01]\n",
      " [2.31380017e-01 7.68619983e-01]\n",
      " [4.78187722e-03 9.95218123e-01]\n",
      " [6.31344317e-01 3.68655683e-01]\n",
      " [8.81592092e-01 1.18407908e-01]\n",
      " [3.55614661e-05 9.99964439e-01]\n",
      " [6.88332600e-01 3.11667400e-01]\n",
      " [8.95493867e-01 1.04506133e-01]\n",
      " [8.47330089e-03 9.91526699e-01]\n",
      " [1.60249915e-13 1.00000000e+00]\n",
      " [7.25931535e-01 2.74068465e-01]\n",
      " [8.70523829e-01 1.29476171e-01]\n",
      " [5.98274911e-01 4.01725089e-01]\n",
      " [9.99997390e-01 2.60998672e-06]\n",
      " [9.14704055e-01 8.52959447e-02]\n",
      " [9.10443085e-01 8.95569150e-02]\n",
      " [3.00229387e-01 6.99770613e-01]\n",
      " [2.86584721e-01 7.13415279e-01]\n",
      " [8.85161511e-01 1.14838489e-01]\n",
      " [4.84952213e-02 9.51504779e-01]\n",
      " [9.39705749e-01 6.02942509e-02]\n",
      " [8.95124824e-01 1.04875176e-01]\n",
      " [9.03762473e-01 9.62375268e-02]\n",
      " [9.99550875e-01 4.49125437e-04]\n",
      " [1.38568829e-01 8.61431171e-01]\n",
      " [3.62218021e-02 9.63778198e-01]\n",
      " [9.02559294e-01 9.74407059e-02]\n",
      " [8.95489218e-01 1.04510782e-01]\n",
      " [9.99710153e-01 2.89847188e-04]\n",
      " [2.14125400e-02 9.78587460e-01]\n",
      " [9.07647874e-01 9.23521264e-02]\n",
      " [2.22006048e-03 9.97779940e-01]\n",
      " [9.37867975e-01 6.21320251e-02]\n",
      " [9.15426952e-01 8.45730481e-02]\n",
      " [5.40714416e-06 9.99994593e-01]\n",
      " [9.01068472e-01 9.89315284e-02]\n",
      " [3.82320816e-03 9.96176792e-01]\n",
      " [5.40460238e-01 4.59539762e-01]\n",
      " [3.61008102e-01 6.38991898e-01]\n",
      " [5.99185505e-01 4.00814495e-01]\n",
      " [8.84620302e-01 1.15379698e-01]\n",
      " [6.25634675e-08 9.99999937e-01]\n",
      " [2.09305273e-01 7.90694727e-01]\n",
      " [1.79049586e-01 8.20950414e-01]\n",
      " [2.09336827e-01 7.90663173e-01]\n",
      " [4.07730371e-03 9.95922696e-01]\n",
      " [2.89417156e-01 7.10582844e-01]\n",
      " [9.44378088e-01 5.56219122e-02]\n",
      " [3.59893238e-04 9.99640107e-01]\n",
      " [9.48033906e-01 5.19660944e-02]\n",
      " [9.44378088e-01 5.56219122e-02]\n",
      " [7.69843022e-01 2.30156978e-01]]\n"
     ]
    }
   ],
   "source": [
    "# Compute predicted probabilities: y_pred_prob\n",
    "y_pred_prob = model.predict_proba(X_test)\n",
    "print(y_pred_prob)"
   ]
  },
  {
   "cell_type": "markdown",
   "metadata": {},
   "source": [
    "### Evaluating"
   ]
  },
  {
   "cell_type": "code",
   "execution_count": 28,
   "metadata": {},
   "outputs": [
    {
     "name": "stdout",
     "output_type": "stream",
     "text": [
      "Confusion matrix:\n",
      " [[229  36]\n",
      " [  6 146]]\n",
      "Accuracy:  0.8992805755395683\n"
     ]
    }
   ],
   "source": [
    "from sklearn.metrics import confusion_matrix, recall_score, accuracy_score\n",
    "print('Confusion matrix:\\n', confusion_matrix(y_test,y_pred)) \n",
    "print(\"Accuracy: \", accuracy_score(y_test,y_pred))"
   ]
  }
 ],
 "metadata": {
  "kernelspec": {
   "display_name": "Python 3 (ipykernel)",
   "language": "python",
   "name": "python3"
  },
  "language_info": {
   "codemirror_mode": {
    "name": "ipython",
    "version": 3
   },
   "file_extension": ".py",
   "mimetype": "text/x-python",
   "name": "python",
   "nbconvert_exporter": "python",
   "pygments_lexer": "ipython3",
   "version": "3.9.7"
  }
 },
 "nbformat": 4,
 "nbformat_minor": 2
}
