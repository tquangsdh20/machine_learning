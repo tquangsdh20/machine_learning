{
 "cells": [
  {
   "cell_type": "markdown",
   "id": "4e9afb6d",
   "metadata": {},
   "source": [
    "## Example 1:"
   ]
  },
  {
   "cell_type": "code",
   "execution_count": 1,
   "id": "23fa175b",
   "metadata": {},
   "outputs": [],
   "source": [
    "import pandas as pd\n",
    "import math"
   ]
  },
  {
   "cell_type": "code",
   "execution_count": 4,
   "id": "21c285cd",
   "metadata": {},
   "outputs": [
    {
     "data": {
      "text/html": [
       "<div>\n",
       "<style scoped>\n",
       "    .dataframe tbody tr th:only-of-type {\n",
       "        vertical-align: middle;\n",
       "    }\n",
       "\n",
       "    .dataframe tbody tr th {\n",
       "        vertical-align: top;\n",
       "    }\n",
       "\n",
       "    .dataframe thead th {\n",
       "        text-align: right;\n",
       "    }\n",
       "</style>\n",
       "<table border=\"1\" class=\"dataframe\">\n",
       "  <thead>\n",
       "    <tr style=\"text-align: right;\">\n",
       "      <th></th>\n",
       "      <th>Gender</th>\n",
       "      <th>Ownership</th>\n",
       "      <th>Travel Cost</th>\n",
       "      <th>Income</th>\n",
       "      <th>Mode</th>\n",
       "    </tr>\n",
       "  </thead>\n",
       "  <tbody>\n",
       "    <tr>\n",
       "      <th>0</th>\n",
       "      <td>Male</td>\n",
       "      <td>0</td>\n",
       "      <td>Cheap</td>\n",
       "      <td>Low</td>\n",
       "      <td>Bus</td>\n",
       "    </tr>\n",
       "    <tr>\n",
       "      <th>1</th>\n",
       "      <td>Male</td>\n",
       "      <td>1</td>\n",
       "      <td>Cheap</td>\n",
       "      <td>Medium</td>\n",
       "      <td>Bus</td>\n",
       "    </tr>\n",
       "    <tr>\n",
       "      <th>2</th>\n",
       "      <td>Female</td>\n",
       "      <td>0</td>\n",
       "      <td>Cheap</td>\n",
       "      <td>Low</td>\n",
       "      <td>Bus</td>\n",
       "    </tr>\n",
       "    <tr>\n",
       "      <th>3</th>\n",
       "      <td>Male</td>\n",
       "      <td>1</td>\n",
       "      <td>Cheap</td>\n",
       "      <td>Medium</td>\n",
       "      <td>Bus</td>\n",
       "    </tr>\n",
       "    <tr>\n",
       "      <th>4</th>\n",
       "      <td>Female</td>\n",
       "      <td>1</td>\n",
       "      <td>Expensive</td>\n",
       "      <td>High</td>\n",
       "      <td>Car</td>\n",
       "    </tr>\n",
       "    <tr>\n",
       "      <th>5</th>\n",
       "      <td>Male</td>\n",
       "      <td>2</td>\n",
       "      <td>Expensive</td>\n",
       "      <td>Medium</td>\n",
       "      <td>Car</td>\n",
       "    </tr>\n",
       "    <tr>\n",
       "      <th>6</th>\n",
       "      <td>Female</td>\n",
       "      <td>2</td>\n",
       "      <td>Expensive</td>\n",
       "      <td>High</td>\n",
       "      <td>Car</td>\n",
       "    </tr>\n",
       "    <tr>\n",
       "      <th>7</th>\n",
       "      <td>Female</td>\n",
       "      <td>1</td>\n",
       "      <td>Cheap</td>\n",
       "      <td>Medium</td>\n",
       "      <td>Train</td>\n",
       "    </tr>\n",
       "    <tr>\n",
       "      <th>8</th>\n",
       "      <td>Male</td>\n",
       "      <td>0</td>\n",
       "      <td>Standard</td>\n",
       "      <td>Medium</td>\n",
       "      <td>Train</td>\n",
       "    </tr>\n",
       "    <tr>\n",
       "      <th>9</th>\n",
       "      <td>Female</td>\n",
       "      <td>1</td>\n",
       "      <td>Standard</td>\n",
       "      <td>Medium</td>\n",
       "      <td>Train</td>\n",
       "    </tr>\n",
       "  </tbody>\n",
       "</table>\n",
       "</div>"
      ],
      "text/plain": [
       "   Gender  Ownership Travel Cost  Income   Mode\n",
       "0    Male          0       Cheap     Low    Bus\n",
       "1    Male          1       Cheap  Medium    Bus\n",
       "2  Female          0       Cheap     Low    Bus\n",
       "3    Male          1       Cheap  Medium    Bus\n",
       "4  Female          1   Expensive    High    Car\n",
       "5    Male          2   Expensive  Medium    Car\n",
       "6  Female          2   Expensive    High    Car\n",
       "7  Female          1       Cheap  Medium  Train\n",
       "8    Male          0    Standard  Medium  Train\n",
       "9  Female          1    Standard  Medium  Train"
      ]
     },
     "execution_count": 4,
     "metadata": {},
     "output_type": "execute_result"
    }
   ],
   "source": [
    "dat = pd.read_csv('./dataset/DecisionTree', sep='\\t')\n",
    "dat"
   ]
  },
  {
   "cell_type": "markdown",
   "id": "1cb8860b",
   "metadata": {},
   "source": [
    "## Caculation for Entropy of special column - Mode"
   ]
  },
  {
   "cell_type": "code",
   "execution_count": 5,
   "id": "6559cf45",
   "metadata": {},
   "outputs": [
    {
     "name": "stdout",
     "output_type": "stream",
     "text": [
      "{'Bus': 0.4, 'Car': 0.3, 'Train': 0.3}\n"
     ]
    }
   ],
   "source": [
    "# Dem so truong hop\n",
    "items = pd.unique(dat['Mode'])\n",
    "n_total = dat['Mode'].count()\n",
    "p = dict()\n",
    "for item in items:\n",
    "    n_i = dat['Mode'].loc[dat['Mode'] == item].count()\n",
    "    p[item] = n_i/n_total\n",
    "\n",
    "print(p)"
   ]
  },
  {
   "cell_type": "code",
   "execution_count": 6,
   "id": "23d4c325",
   "metadata": {},
   "outputs": [
    {
     "name": "stdout",
     "output_type": "stream",
     "text": [
      "1.5709505944546684\n"
     ]
    }
   ],
   "source": [
    "# Entropy(S)\n",
    "entropy_s = 0\n",
    "for item in p.keys():\n",
    "    pi = p[item]\n",
    "    ent_i = -pi*math.log2(pi)\n",
    "    entropy_s += ent_i\n",
    "print(entropy_s)"
   ]
  },
  {
   "cell_type": "markdown",
   "id": "60f88187",
   "metadata": {},
   "source": [
    "### Caculation for Entropy of Gender with Male value"
   ]
  },
  {
   "cell_type": "code",
   "execution_count": 7,
   "id": "b0f15fdc",
   "metadata": {},
   "outputs": [
    {
     "data": {
      "text/html": [
       "<div>\n",
       "<style scoped>\n",
       "    .dataframe tbody tr th:only-of-type {\n",
       "        vertical-align: middle;\n",
       "    }\n",
       "\n",
       "    .dataframe tbody tr th {\n",
       "        vertical-align: top;\n",
       "    }\n",
       "\n",
       "    .dataframe thead th {\n",
       "        text-align: right;\n",
       "    }\n",
       "</style>\n",
       "<table border=\"1\" class=\"dataframe\">\n",
       "  <thead>\n",
       "    <tr style=\"text-align: right;\">\n",
       "      <th></th>\n",
       "      <th>Gender</th>\n",
       "      <th>Ownership</th>\n",
       "      <th>Travel Cost</th>\n",
       "      <th>Income</th>\n",
       "      <th>Mode</th>\n",
       "    </tr>\n",
       "  </thead>\n",
       "  <tbody>\n",
       "    <tr>\n",
       "      <th>0</th>\n",
       "      <td>Male</td>\n",
       "      <td>0</td>\n",
       "      <td>Cheap</td>\n",
       "      <td>Low</td>\n",
       "      <td>Bus</td>\n",
       "    </tr>\n",
       "    <tr>\n",
       "      <th>1</th>\n",
       "      <td>Male</td>\n",
       "      <td>1</td>\n",
       "      <td>Cheap</td>\n",
       "      <td>Medium</td>\n",
       "      <td>Bus</td>\n",
       "    </tr>\n",
       "    <tr>\n",
       "      <th>3</th>\n",
       "      <td>Male</td>\n",
       "      <td>1</td>\n",
       "      <td>Cheap</td>\n",
       "      <td>Medium</td>\n",
       "      <td>Bus</td>\n",
       "    </tr>\n",
       "    <tr>\n",
       "      <th>5</th>\n",
       "      <td>Male</td>\n",
       "      <td>2</td>\n",
       "      <td>Expensive</td>\n",
       "      <td>Medium</td>\n",
       "      <td>Car</td>\n",
       "    </tr>\n",
       "    <tr>\n",
       "      <th>8</th>\n",
       "      <td>Male</td>\n",
       "      <td>0</td>\n",
       "      <td>Standard</td>\n",
       "      <td>Medium</td>\n",
       "      <td>Train</td>\n",
       "    </tr>\n",
       "  </tbody>\n",
       "</table>\n",
       "</div>"
      ],
      "text/plain": [
       "  Gender  Ownership Travel Cost  Income   Mode\n",
       "0   Male          0       Cheap     Low    Bus\n",
       "1   Male          1       Cheap  Medium    Bus\n",
       "3   Male          1       Cheap  Medium    Bus\n",
       "5   Male          2   Expensive  Medium    Car\n",
       "8   Male          0    Standard  Medium  Train"
      ]
     },
     "execution_count": 7,
     "metadata": {},
     "output_type": "execute_result"
    }
   ],
   "source": [
    "# Lua ra toan bo male\n",
    "gender = pd.unique(dat['Gender'])\n",
    "males = dat.loc[dat['Gender'] == gender[0]]\n",
    "males"
   ]
  },
  {
   "cell_type": "code",
   "execution_count": 8,
   "id": "454018db",
   "metadata": {},
   "outputs": [
    {
     "name": "stdout",
     "output_type": "stream",
     "text": [
      "{'Bus': 0.6, 'Car': 0.2, 'Train': 0.2}\n",
      "Entropy(gender='Male') = 1.37\n"
     ]
    }
   ],
   "source": [
    "# Dem so truong hop\n",
    "items_male = pd.unique(males['Mode'])\n",
    "n_total_male = males['Mode'].count()\n",
    "p_male = dict()\n",
    "for item in items_male:\n",
    "    n_i = males['Mode'].loc[males['Mode'] == item].count()\n",
    "    p_male[item] = n_i/n_total_male\n",
    "print(p_male)\n",
    "# Entropy(S)\n",
    "entropy_male = 0\n",
    "for item in p_male.keys():\n",
    "    pi = p_male[item]\n",
    "    ent_i = -pi*math.log2(pi)\n",
    "    entropy_male += ent_i\n",
    "print(f'Entropy(gender=\\'Male\\') = {entropy_male:.3}')"
   ]
  },
  {
   "cell_type": "markdown",
   "id": "03c2866d",
   "metadata": {},
   "source": [
    "### Caculation for Entropy of Gender with Female value"
   ]
  },
  {
   "cell_type": "code",
   "execution_count": 9,
   "id": "773027d0",
   "metadata": {},
   "outputs": [
    {
     "data": {
      "text/html": [
       "<div>\n",
       "<style scoped>\n",
       "    .dataframe tbody tr th:only-of-type {\n",
       "        vertical-align: middle;\n",
       "    }\n",
       "\n",
       "    .dataframe tbody tr th {\n",
       "        vertical-align: top;\n",
       "    }\n",
       "\n",
       "    .dataframe thead th {\n",
       "        text-align: right;\n",
       "    }\n",
       "</style>\n",
       "<table border=\"1\" class=\"dataframe\">\n",
       "  <thead>\n",
       "    <tr style=\"text-align: right;\">\n",
       "      <th></th>\n",
       "      <th>Gender</th>\n",
       "      <th>Ownership</th>\n",
       "      <th>Travel Cost</th>\n",
       "      <th>Income</th>\n",
       "      <th>Mode</th>\n",
       "    </tr>\n",
       "  </thead>\n",
       "  <tbody>\n",
       "    <tr>\n",
       "      <th>2</th>\n",
       "      <td>Female</td>\n",
       "      <td>0</td>\n",
       "      <td>Cheap</td>\n",
       "      <td>Low</td>\n",
       "      <td>Bus</td>\n",
       "    </tr>\n",
       "    <tr>\n",
       "      <th>4</th>\n",
       "      <td>Female</td>\n",
       "      <td>1</td>\n",
       "      <td>Expensive</td>\n",
       "      <td>High</td>\n",
       "      <td>Car</td>\n",
       "    </tr>\n",
       "    <tr>\n",
       "      <th>6</th>\n",
       "      <td>Female</td>\n",
       "      <td>2</td>\n",
       "      <td>Expensive</td>\n",
       "      <td>High</td>\n",
       "      <td>Car</td>\n",
       "    </tr>\n",
       "    <tr>\n",
       "      <th>7</th>\n",
       "      <td>Female</td>\n",
       "      <td>1</td>\n",
       "      <td>Cheap</td>\n",
       "      <td>Medium</td>\n",
       "      <td>Train</td>\n",
       "    </tr>\n",
       "    <tr>\n",
       "      <th>9</th>\n",
       "      <td>Female</td>\n",
       "      <td>1</td>\n",
       "      <td>Standard</td>\n",
       "      <td>Medium</td>\n",
       "      <td>Train</td>\n",
       "    </tr>\n",
       "  </tbody>\n",
       "</table>\n",
       "</div>"
      ],
      "text/plain": [
       "   Gender  Ownership Travel Cost  Income   Mode\n",
       "2  Female          0       Cheap     Low    Bus\n",
       "4  Female          1   Expensive    High    Car\n",
       "6  Female          2   Expensive    High    Car\n",
       "7  Female          1       Cheap  Medium  Train\n",
       "9  Female          1    Standard  Medium  Train"
      ]
     },
     "execution_count": 9,
     "metadata": {},
     "output_type": "execute_result"
    }
   ],
   "source": [
    "# Lua ra toan bo male\n",
    "gender = pd.unique(dat['Gender'])\n",
    "females = dat.loc[dat['Gender'] == gender[1]]\n",
    "females"
   ]
  },
  {
   "cell_type": "code",
   "execution_count": 10,
   "id": "313ef65d",
   "metadata": {},
   "outputs": [
    {
     "name": "stdout",
     "output_type": "stream",
     "text": [
      "{'Bus': 0.2, 'Car': 0.4, 'Train': 0.4}\n",
      "Entropy(gender='Female') = 1.52\n"
     ]
    }
   ],
   "source": [
    "# Dem so truong hop\n",
    "items_female = pd.unique(females['Mode'])\n",
    "n_total_female = females['Mode'].count()\n",
    "p_female = dict()\n",
    "for item in items_female:\n",
    "    n_i = females['Mode'].loc[females['Mode'] == item].count()\n",
    "    p_female[item] = n_i/n_total_female\n",
    "print(p_female)\n",
    "# Entropy(S)\n",
    "entropy_female = 0\n",
    "for item in p_female.keys():\n",
    "    pi = p_female[item]\n",
    "    ent_i = -pi*math.log2(pi)\n",
    "    entropy_female += ent_i\n",
    "print(f'Entropy(gender=\\'Female\\') = {entropy_female:.3}')"
   ]
  },
  {
   "cell_type": "markdown",
   "id": "75b50a11",
   "metadata": {},
   "source": [
    "### Entropy(Gender)"
   ]
  },
  {
   "cell_type": "code",
   "execution_count": 11,
   "id": "96d8a164",
   "metadata": {},
   "outputs": [
    {
     "name": "stdout",
     "output_type": "stream",
     "text": [
      "1.4464393446710155\n"
     ]
    }
   ],
   "source": [
    "n_gender = dat['Gender'].count()\n",
    "n_male = dat['Gender'].loc[dat['Gender'] == 'Male'].count()\n",
    "p_male = n_male/n_gender\n",
    "p_female = 1-p_male\n",
    "entropy_gender = p_male*entropy_male + p_female*entropy_female\n",
    "print(entropy_gender)"
   ]
  },
  {
   "cell_type": "markdown",
   "id": "ba25fc99",
   "metadata": {},
   "source": [
    "### Gain(S,Gender)"
   ]
  },
  {
   "cell_type": "code",
   "execution_count": 12,
   "id": "c4072e68",
   "metadata": {},
   "outputs": [
    {
     "name": "stdout",
     "output_type": "stream",
     "text": [
      "Gain(S,Gender) = 0.125\n"
     ]
    }
   ],
   "source": [
    "## Gain(S,Gender)\n",
    "gain = entropy_s - entropy_gender\n",
    "print(f'Gain(S,Gender) = {gain:.3}')"
   ]
  },
  {
   "cell_type": "markdown",
   "id": "96611193",
   "metadata": {},
   "source": [
    "## Build *get_gain()* function\n"
   ]
  },
  {
   "cell_type": "code",
   "execution_count": 17,
   "id": "6eff8138",
   "metadata": {},
   "outputs": [],
   "source": [
    "from source.DecisionTree import get_gain, get_probability, get_entropy, build_decision_tree, get_fmax"
   ]
  },
  {
   "cell_type": "code",
   "execution_count": 18,
   "id": "19165e26",
   "metadata": {},
   "outputs": [
    {
     "name": "stdout",
     "output_type": "stream",
     "text": [
      "Gain(S,Gender) = 0.125\n"
     ]
    }
   ],
   "source": [
    "a = get_gain(dat,'Mode','Gender')\n",
    "print(f'Gain(S,Gender) = {a:.3}')"
   ]
  },
  {
   "cell_type": "code",
   "execution_count": 19,
   "id": "2ffa7eea",
   "metadata": {},
   "outputs": [
    {
     "name": "stdout",
     "output_type": "stream",
     "text": [
      "Index(['Gender', 'Ownership', 'Travel Cost', 'Income'], dtype='object')\n"
     ]
    }
   ],
   "source": [
    "# Get all the names of the features\n",
    "label = 'Mode'\n",
    "features = dat.drop(label, axis=1).keys()\n",
    "print(features)"
   ]
  },
  {
   "cell_type": "code",
   "execution_count": 20,
   "id": "e3360110",
   "metadata": {},
   "outputs": [
    {
     "name": "stdout",
     "output_type": "stream",
     "text": [
      "The most meaning feature is \"Travel Cost\"\n"
     ]
    }
   ],
   "source": [
    "fmax = get_fmax(dat, label)\n",
    "print(f'The most meaning feature is \"{fmax}\"')"
   ]
  },
  {
   "cell_type": "code",
   "execution_count": 21,
   "id": "77f6d9be",
   "metadata": {},
   "outputs": [
    {
     "data": {
      "text/html": [
       "<div>\n",
       "<style scoped>\n",
       "    .dataframe tbody tr th:only-of-type {\n",
       "        vertical-align: middle;\n",
       "    }\n",
       "\n",
       "    .dataframe tbody tr th {\n",
       "        vertical-align: top;\n",
       "    }\n",
       "\n",
       "    .dataframe thead th {\n",
       "        text-align: right;\n",
       "    }\n",
       "</style>\n",
       "<table border=\"1\" class=\"dataframe\">\n",
       "  <thead>\n",
       "    <tr style=\"text-align: right;\">\n",
       "      <th></th>\n",
       "      <th>Travel Cost</th>\n",
       "      <th>Mode</th>\n",
       "    </tr>\n",
       "  </thead>\n",
       "  <tbody>\n",
       "    <tr>\n",
       "      <th>0</th>\n",
       "      <td>Cheap</td>\n",
       "      <td>Bus</td>\n",
       "    </tr>\n",
       "    <tr>\n",
       "      <th>1</th>\n",
       "      <td>Cheap</td>\n",
       "      <td>Bus</td>\n",
       "    </tr>\n",
       "    <tr>\n",
       "      <th>2</th>\n",
       "      <td>Cheap</td>\n",
       "      <td>Bus</td>\n",
       "    </tr>\n",
       "    <tr>\n",
       "      <th>3</th>\n",
       "      <td>Cheap</td>\n",
       "      <td>Bus</td>\n",
       "    </tr>\n",
       "    <tr>\n",
       "      <th>4</th>\n",
       "      <td>Expensive</td>\n",
       "      <td>Car</td>\n",
       "    </tr>\n",
       "    <tr>\n",
       "      <th>5</th>\n",
       "      <td>Expensive</td>\n",
       "      <td>Car</td>\n",
       "    </tr>\n",
       "    <tr>\n",
       "      <th>6</th>\n",
       "      <td>Expensive</td>\n",
       "      <td>Car</td>\n",
       "    </tr>\n",
       "    <tr>\n",
       "      <th>7</th>\n",
       "      <td>Cheap</td>\n",
       "      <td>Train</td>\n",
       "    </tr>\n",
       "    <tr>\n",
       "      <th>8</th>\n",
       "      <td>Standard</td>\n",
       "      <td>Train</td>\n",
       "    </tr>\n",
       "    <tr>\n",
       "      <th>9</th>\n",
       "      <td>Standard</td>\n",
       "      <td>Train</td>\n",
       "    </tr>\n",
       "  </tbody>\n",
       "</table>\n",
       "</div>"
      ],
      "text/plain": [
       "  Travel Cost   Mode\n",
       "0       Cheap    Bus\n",
       "1       Cheap    Bus\n",
       "2       Cheap    Bus\n",
       "3       Cheap    Bus\n",
       "4   Expensive    Car\n",
       "5   Expensive    Car\n",
       "6   Expensive    Car\n",
       "7       Cheap  Train\n",
       "8    Standard  Train\n",
       "9    Standard  Train"
      ]
     },
     "execution_count": 21,
     "metadata": {},
     "output_type": "execute_result"
    }
   ],
   "source": [
    "# After find the gain max\n",
    "dummydat = dat[[fmax, label]]\n",
    "dummydat"
   ]
  },
  {
   "cell_type": "markdown",
   "id": "a2b97928",
   "metadata": {},
   "source": [
    "### Get all unique value"
   ]
  },
  {
   "cell_type": "code",
   "execution_count": 22,
   "id": "06d5e008",
   "metadata": {},
   "outputs": [
    {
     "name": "stdout",
     "output_type": "stream",
     "text": [
      "The sub-table with Travel Cost = Cheap\n",
      "   Gender  Ownership Travel Cost  Income   Mode\n",
      "0    Male          0       Cheap     Low    Bus\n",
      "1    Male          1       Cheap  Medium    Bus\n",
      "2  Female          0       Cheap     Low    Bus\n",
      "3    Male          1       Cheap  Medium    Bus\n",
      "7  Female          1       Cheap  Medium  Train\n",
      "Entropy = 0.7219280948873623\n",
      "\n",
      "The sub-table with Travel Cost = Expensive\n",
      "   Gender  Ownership Travel Cost  Income Mode\n",
      "4  Female          1   Expensive    High  Car\n",
      "5    Male          2   Expensive  Medium  Car\n",
      "6  Female          2   Expensive    High  Car\n",
      "Entropy = 0.0\n",
      "\n",
      "The sub-table with Travel Cost = Standard\n",
      "   Gender  Ownership Travel Cost  Income   Mode\n",
      "8    Male          0    Standard  Medium  Train\n",
      "9  Female          1    Standard  Medium  Train\n",
      "Entropy = 0.0\n",
      "\n"
     ]
    }
   ],
   "source": [
    "subvalues = pd.unique(dat[fmax])\n",
    "# All items searching\n",
    "for item in subvalues:\n",
    "    print(f'The sub-table with {fmax} = {item}')\n",
    "    subdummy = dat.loc[dat[fmax] == item]\n",
    "    print(subdummy)\n",
    "    entropy_sub = get_entropy(subdummy, label)\n",
    "    print(f'Entropy = {entropy_sub}\\n')"
   ]
  },
  {
   "cell_type": "markdown",
   "id": "32830c18",
   "metadata": {},
   "source": [
    "Where, **Entropy = 0** that's meaning the feature is purity and the information can answer what type of it.  \n",
    "\n",
    "**For example:**  \n",
    "Entropy(Travel Cost = *Expensive*) = 0 => if *TravelCost = Expensive* then *Mode = Car*."
   ]
  },
  {
   "cell_type": "markdown",
   "id": "7f7e8d09",
   "metadata": {},
   "source": [
    "#### Some others information"
   ]
  },
  {
   "cell_type": "code",
   "execution_count": 23,
   "id": "f15fa087",
   "metadata": {},
   "outputs": [
    {
     "name": "stdout",
     "output_type": "stream",
     "text": [
      "Entropy(Gender) = 1.0\n",
      "Entropy(Ownership) = 1.49\n",
      "Entropy(Travel Cost) = 1.49\n",
      "Entropy(Income) = 1.37\n",
      "Entropy(Mode) = 1.57\n",
      "Gender = {'Male': 0.5, 'Female': 0.5}\n",
      "Ownership = {0: 0.3, 1: 0.5, 2: 0.2}\n",
      "Travel Cost = {'Cheap': 0.5, 'Expensive': 0.3, 'Standard': 0.2}\n",
      "Income = {'Low': 0.2, 'Medium': 0.6, 'High': 0.2}\n",
      "Mode = {'Bus': 0.4, 'Car': 0.3, 'Train': 0.3}\n"
     ]
    }
   ],
   "source": [
    "features = ['Gender', 'Ownership', 'Travel Cost', 'Income', 'Mode']\n",
    "# Entropy\n",
    "for feature in features:\n",
    "    entropy = get_entropy(dat, feature)\n",
    "    print(f'Entropy({feature}) = {entropy:.03}')\n",
    "# Probality\n",
    "for feature in features:\n",
    "    p = get_probability(dat,feature)\n",
    "    print(feature,'=',p,)"
   ]
  },
  {
   "cell_type": "markdown",
   "id": "912e1385",
   "metadata": {},
   "source": [
    "### Result"
   ]
  },
  {
   "cell_type": "code",
   "execution_count": 24,
   "id": "b5219b0d",
   "metadata": {},
   "outputs": [
    {
     "data": {
      "text/plain": [
       "{'Travel Cost': {'Cheap': {'Gender': {'Male': 'Bus',\n",
       "    'Female': {'Ownership': {0: 'Bus', 1: 'Train'}}}},\n",
       "  'Expensive': 'Car',\n",
       "  'Standard': 'Train'}}"
      ]
     },
     "execution_count": 24,
     "metadata": {},
     "output_type": "execute_result"
    }
   ],
   "source": [
    "build_decision_tree(dat, label)"
   ]
  },
  {
   "cell_type": "markdown",
   "id": "e9ac2ee5",
   "metadata": {},
   "source": [
    "## Example 2:"
   ]
  },
  {
   "cell_type": "code",
   "execution_count": 25,
   "id": "5e93dfe5",
   "metadata": {},
   "outputs": [
    {
     "data": {
      "text/html": [
       "<div>\n",
       "<style scoped>\n",
       "    .dataframe tbody tr th:only-of-type {\n",
       "        vertical-align: middle;\n",
       "    }\n",
       "\n",
       "    .dataframe tbody tr th {\n",
       "        vertical-align: top;\n",
       "    }\n",
       "\n",
       "    .dataframe thead th {\n",
       "        text-align: right;\n",
       "    }\n",
       "</style>\n",
       "<table border=\"1\" class=\"dataframe\">\n",
       "  <thead>\n",
       "    <tr style=\"text-align: right;\">\n",
       "      <th></th>\n",
       "      <th>age</th>\n",
       "      <th>income</th>\n",
       "      <th>student</th>\n",
       "      <th>credit-rating</th>\n",
       "      <th>buys-computer</th>\n",
       "    </tr>\n",
       "  </thead>\n",
       "  <tbody>\n",
       "    <tr>\n",
       "      <th>0</th>\n",
       "      <td>24</td>\n",
       "      <td>high</td>\n",
       "      <td>no</td>\n",
       "      <td>fair</td>\n",
       "      <td>no</td>\n",
       "    </tr>\n",
       "    <tr>\n",
       "      <th>1</th>\n",
       "      <td>25</td>\n",
       "      <td>high</td>\n",
       "      <td>no</td>\n",
       "      <td>excellent</td>\n",
       "      <td>no</td>\n",
       "    </tr>\n",
       "    <tr>\n",
       "      <th>2</th>\n",
       "      <td>32</td>\n",
       "      <td>high</td>\n",
       "      <td>no</td>\n",
       "      <td>fair</td>\n",
       "      <td>yes</td>\n",
       "    </tr>\n",
       "    <tr>\n",
       "      <th>3</th>\n",
       "      <td>43</td>\n",
       "      <td>medium</td>\n",
       "      <td>no</td>\n",
       "      <td>fair</td>\n",
       "      <td>yes</td>\n",
       "    </tr>\n",
       "    <tr>\n",
       "      <th>4</th>\n",
       "      <td>44</td>\n",
       "      <td>low</td>\n",
       "      <td>yes</td>\n",
       "      <td>fair</td>\n",
       "      <td>yes</td>\n",
       "    </tr>\n",
       "  </tbody>\n",
       "</table>\n",
       "</div>"
      ],
      "text/plain": [
       "   age  income student credit-rating buys-computer\n",
       "0   24    high      no          fair            no\n",
       "1   25    high      no     excellent            no\n",
       "2   32    high      no          fair           yes\n",
       "3   43  medium      no          fair           yes\n",
       "4   44     low     yes          fair           yes"
      ]
     },
     "execution_count": 25,
     "metadata": {},
     "output_type": "execute_result"
    }
   ],
   "source": [
    "dat2 = pd.read_csv('./dataset/DecisionTree2', sep='\\t')\n",
    "dat2.head()"
   ]
  },
  {
   "cell_type": "code",
   "execution_count": 26,
   "id": "4809018b",
   "metadata": {},
   "outputs": [],
   "source": [
    "dat2.loc[(dat2.age < 30),  'age.group'] = 'low'\n",
    "dat2.loc[((dat2.age < 40) & (dat2.age >= 30)),  'age.group'] = 'medium'\n",
    "dat2.loc[(dat2.age >= 40),  'age.group'] = 'high'"
   ]
  },
  {
   "cell_type": "code",
   "execution_count": 29,
   "id": "2ab5174d",
   "metadata": {},
   "outputs": [
    {
     "data": {
      "text/html": [
       "<div>\n",
       "<style scoped>\n",
       "    .dataframe tbody tr th:only-of-type {\n",
       "        vertical-align: middle;\n",
       "    }\n",
       "\n",
       "    .dataframe tbody tr th {\n",
       "        vertical-align: top;\n",
       "    }\n",
       "\n",
       "    .dataframe thead th {\n",
       "        text-align: right;\n",
       "    }\n",
       "</style>\n",
       "<table border=\"1\" class=\"dataframe\">\n",
       "  <thead>\n",
       "    <tr style=\"text-align: right;\">\n",
       "      <th></th>\n",
       "      <th>income</th>\n",
       "      <th>student</th>\n",
       "      <th>credit-rating</th>\n",
       "      <th>buys-computer</th>\n",
       "      <th>age.group</th>\n",
       "    </tr>\n",
       "  </thead>\n",
       "  <tbody>\n",
       "    <tr>\n",
       "      <th>0</th>\n",
       "      <td>high</td>\n",
       "      <td>no</td>\n",
       "      <td>fair</td>\n",
       "      <td>no</td>\n",
       "      <td>low</td>\n",
       "    </tr>\n",
       "    <tr>\n",
       "      <th>1</th>\n",
       "      <td>high</td>\n",
       "      <td>no</td>\n",
       "      <td>excellent</td>\n",
       "      <td>no</td>\n",
       "      <td>low</td>\n",
       "    </tr>\n",
       "    <tr>\n",
       "      <th>2</th>\n",
       "      <td>high</td>\n",
       "      <td>no</td>\n",
       "      <td>fair</td>\n",
       "      <td>yes</td>\n",
       "      <td>medium</td>\n",
       "    </tr>\n",
       "    <tr>\n",
       "      <th>3</th>\n",
       "      <td>medium</td>\n",
       "      <td>no</td>\n",
       "      <td>fair</td>\n",
       "      <td>yes</td>\n",
       "      <td>high</td>\n",
       "    </tr>\n",
       "    <tr>\n",
       "      <th>4</th>\n",
       "      <td>low</td>\n",
       "      <td>yes</td>\n",
       "      <td>fair</td>\n",
       "      <td>yes</td>\n",
       "      <td>high</td>\n",
       "    </tr>\n",
       "    <tr>\n",
       "      <th>5</th>\n",
       "      <td>low</td>\n",
       "      <td>yes</td>\n",
       "      <td>excellent</td>\n",
       "      <td>no</td>\n",
       "      <td>high</td>\n",
       "    </tr>\n",
       "    <tr>\n",
       "      <th>6</th>\n",
       "      <td>low</td>\n",
       "      <td>yes</td>\n",
       "      <td>excellent</td>\n",
       "      <td>yes</td>\n",
       "      <td>medium</td>\n",
       "    </tr>\n",
       "    <tr>\n",
       "      <th>7</th>\n",
       "      <td>medium</td>\n",
       "      <td>no</td>\n",
       "      <td>fair</td>\n",
       "      <td>no</td>\n",
       "      <td>low</td>\n",
       "    </tr>\n",
       "    <tr>\n",
       "      <th>8</th>\n",
       "      <td>low</td>\n",
       "      <td>yes</td>\n",
       "      <td>fair</td>\n",
       "      <td>yes</td>\n",
       "      <td>low</td>\n",
       "    </tr>\n",
       "    <tr>\n",
       "      <th>9</th>\n",
       "      <td>medium</td>\n",
       "      <td>yes</td>\n",
       "      <td>fair</td>\n",
       "      <td>yes</td>\n",
       "      <td>high</td>\n",
       "    </tr>\n",
       "    <tr>\n",
       "      <th>10</th>\n",
       "      <td>medium</td>\n",
       "      <td>yes</td>\n",
       "      <td>excellent</td>\n",
       "      <td>yes</td>\n",
       "      <td>low</td>\n",
       "    </tr>\n",
       "    <tr>\n",
       "      <th>11</th>\n",
       "      <td>medium</td>\n",
       "      <td>no</td>\n",
       "      <td>excellent</td>\n",
       "      <td>yes</td>\n",
       "      <td>medium</td>\n",
       "    </tr>\n",
       "    <tr>\n",
       "      <th>12</th>\n",
       "      <td>high</td>\n",
       "      <td>yes</td>\n",
       "      <td>fair</td>\n",
       "      <td>yes</td>\n",
       "      <td>medium</td>\n",
       "    </tr>\n",
       "    <tr>\n",
       "      <th>13</th>\n",
       "      <td>medium</td>\n",
       "      <td>no</td>\n",
       "      <td>excellent</td>\n",
       "      <td>no</td>\n",
       "      <td>high</td>\n",
       "    </tr>\n",
       "  </tbody>\n",
       "</table>\n",
       "</div>"
      ],
      "text/plain": [
       "    income student credit-rating buys-computer age.group\n",
       "0     high      no          fair            no       low\n",
       "1     high      no     excellent            no       low\n",
       "2     high      no          fair           yes    medium\n",
       "3   medium      no          fair           yes      high\n",
       "4      low     yes          fair           yes      high\n",
       "5      low     yes     excellent            no      high\n",
       "6      low     yes     excellent           yes    medium\n",
       "7   medium      no          fair            no       low\n",
       "8      low     yes          fair           yes       low\n",
       "9   medium     yes          fair           yes      high\n",
       "10  medium     yes     excellent           yes       low\n",
       "11  medium      no     excellent           yes    medium\n",
       "12    high     yes          fair           yes    medium\n",
       "13  medium      no     excellent            no      high"
      ]
     },
     "execution_count": 29,
     "metadata": {},
     "output_type": "execute_result"
    }
   ],
   "source": [
    "mydat = dat2.drop('age',axis=1)\n",
    "mydat"
   ]
  },
  {
   "cell_type": "code",
   "execution_count": 30,
   "id": "df6189e2",
   "metadata": {},
   "outputs": [
    {
     "name": "stdout",
     "output_type": "stream",
     "text": [
      "Index(['income', 'student', 'credit-rating', 'age.group'], dtype='object')\n",
      "Gain(S,income) = 0.0292\n",
      "Gain(S,student) = 0.152\n",
      "Gain(S,credit-rating) = 0.0481\n",
      "Gain(S,age.group) = 0.247\n",
      "The most meaning feature is \"age.group\"\n"
     ]
    }
   ],
   "source": [
    "# Get all the names of the features\n",
    "label = 'buys-computer'\n",
    "features = mydat.drop(label,axis=1).keys()\n",
    "print(features)\n",
    "# Gain calculation\n",
    "gain = dict()\n",
    "fmax = ''\n",
    "gmax = -1\n",
    "for feature in features:\n",
    "    gain[feature] = get_gain(mydat, label, feature)\n",
    "    if gmax < gain[feature]: \n",
    "        gmax = gain[feature]\n",
    "        fmax = feature \n",
    "    print(f'Gain(S,{feature}) = {gain[feature]:.3}')\n",
    "print(f'The most meaning feature is \"{fmax}\"')"
   ]
  },
  {
   "cell_type": "code",
   "execution_count": 32,
   "id": "0f833967",
   "metadata": {},
   "outputs": [
    {
     "data": {
      "text/plain": [
       "{'age.group': {'low': {'student': {'no': 'no', 'yes': 'yes'}},\n",
       "  'medium': 'yes',\n",
       "  'high': {'credit-rating': {'fair': 'yes', 'excellent': 'no'}}}}"
      ]
     },
     "execution_count": 32,
     "metadata": {},
     "output_type": "execute_result"
    }
   ],
   "source": [
    "build_decision_tree(mydat, label )"
   ]
  }
 ],
 "metadata": {
  "kernelspec": {
   "display_name": "Python 3 (ipykernel)",
   "language": "python",
   "name": "python3"
  },
  "language_info": {
   "codemirror_mode": {
    "name": "ipython",
    "version": 3
   },
   "file_extension": ".py",
   "mimetype": "text/x-python",
   "name": "python",
   "nbconvert_exporter": "python",
   "pygments_lexer": "ipython3",
   "version": "3.9.7"
  }
 },
 "nbformat": 4,
 "nbformat_minor": 5
}
