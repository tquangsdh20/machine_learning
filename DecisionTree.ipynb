{
 "cells": [
  {
   "cell_type": "code",
   "execution_count": 1,
   "id": "da30c54f",
   "metadata": {},
   "outputs": [],
   "source": [
    "import pandas as pd\n",
    "import math"
   ]
  },
  {
   "cell_type": "code",
   "execution_count": 2,
   "id": "21c285cd",
   "metadata": {},
   "outputs": [],
   "source": [
    "dat = pd.read_csv('./dataset/DecisionTree', sep='\\t')"
   ]
  },
  {
   "cell_type": "code",
   "execution_count": 3,
   "id": "9a6d6f49",
   "metadata": {},
   "outputs": [
    {
     "data": {
      "text/html": [
       "<div>\n",
       "<style scoped>\n",
       "    .dataframe tbody tr th:only-of-type {\n",
       "        vertical-align: middle;\n",
       "    }\n",
       "\n",
       "    .dataframe tbody tr th {\n",
       "        vertical-align: top;\n",
       "    }\n",
       "\n",
       "    .dataframe thead th {\n",
       "        text-align: right;\n",
       "    }\n",
       "</style>\n",
       "<table border=\"1\" class=\"dataframe\">\n",
       "  <thead>\n",
       "    <tr style=\"text-align: right;\">\n",
       "      <th></th>\n",
       "      <th>Gender</th>\n",
       "      <th>Ownership</th>\n",
       "      <th>Travel Cost</th>\n",
       "      <th>Income</th>\n",
       "      <th>Mode</th>\n",
       "    </tr>\n",
       "  </thead>\n",
       "  <tbody>\n",
       "    <tr>\n",
       "      <th>0</th>\n",
       "      <td>Male</td>\n",
       "      <td>0</td>\n",
       "      <td>Cheap</td>\n",
       "      <td>Low</td>\n",
       "      <td>Bus</td>\n",
       "    </tr>\n",
       "    <tr>\n",
       "      <th>1</th>\n",
       "      <td>Male</td>\n",
       "      <td>1</td>\n",
       "      <td>Cheap</td>\n",
       "      <td>Medium</td>\n",
       "      <td>Bus</td>\n",
       "    </tr>\n",
       "    <tr>\n",
       "      <th>2</th>\n",
       "      <td>Female</td>\n",
       "      <td>0</td>\n",
       "      <td>Cheap</td>\n",
       "      <td>Low</td>\n",
       "      <td>Bus</td>\n",
       "    </tr>\n",
       "    <tr>\n",
       "      <th>3</th>\n",
       "      <td>Male</td>\n",
       "      <td>1</td>\n",
       "      <td>Cheap</td>\n",
       "      <td>Medium</td>\n",
       "      <td>Bus</td>\n",
       "    </tr>\n",
       "    <tr>\n",
       "      <th>4</th>\n",
       "      <td>Female</td>\n",
       "      <td>1</td>\n",
       "      <td>Expensive</td>\n",
       "      <td>High</td>\n",
       "      <td>Car</td>\n",
       "    </tr>\n",
       "  </tbody>\n",
       "</table>\n",
       "</div>"
      ],
      "text/plain": [
       "   Gender  Ownership Travel Cost  Income Mode\n",
       "0    Male          0       Cheap     Low  Bus\n",
       "1    Male          1       Cheap  Medium  Bus\n",
       "2  Female          0       Cheap     Low  Bus\n",
       "3    Male          1       Cheap  Medium  Bus\n",
       "4  Female          1   Expensive    High  Car"
      ]
     },
     "execution_count": 3,
     "metadata": {},
     "output_type": "execute_result"
    }
   ],
   "source": [
    "dat.head()"
   ]
  },
  {
   "cell_type": "markdown",
   "id": "1cb8860b",
   "metadata": {},
   "source": [
    "## Caculation for Entropy of special column - Mode"
   ]
  },
  {
   "cell_type": "code",
   "execution_count": 4,
   "id": "6559cf45",
   "metadata": {},
   "outputs": [
    {
     "name": "stdout",
     "output_type": "stream",
     "text": [
      "{'Bus': 0.4, 'Car': 0.3, 'Train': 0.3}\n"
     ]
    }
   ],
   "source": [
    "# Dem so truong hop\n",
    "items = pd.unique(dat['Mode'])\n",
    "n_total = dat['Mode'].count()\n",
    "p = dict()\n",
    "for item in items:\n",
    "    n_i = dat['Mode'].loc[dat['Mode'] == item].count()\n",
    "    p[item] = n_i/n_total\n",
    "\n",
    "print(p)"
   ]
  },
  {
   "cell_type": "code",
   "execution_count": 5,
   "id": "23d4c325",
   "metadata": {},
   "outputs": [
    {
     "name": "stdout",
     "output_type": "stream",
     "text": [
      "1.5709505944546684\n"
     ]
    }
   ],
   "source": [
    "# Entropy(S)\n",
    "entropy_s = 0\n",
    "for item in p.keys():\n",
    "    pi = p[item]\n",
    "    ent_i = -pi*math.log2(pi)\n",
    "    entropy_s += ent_i\n",
    "print(entropy_s)"
   ]
  },
  {
   "cell_type": "markdown",
   "id": "60f88187",
   "metadata": {},
   "source": [
    "### Caculation for Entropy of Gender with Male value"
   ]
  },
  {
   "cell_type": "code",
   "execution_count": 6,
   "id": "b0f15fdc",
   "metadata": {},
   "outputs": [
    {
     "data": {
      "text/html": [
       "<div>\n",
       "<style scoped>\n",
       "    .dataframe tbody tr th:only-of-type {\n",
       "        vertical-align: middle;\n",
       "    }\n",
       "\n",
       "    .dataframe tbody tr th {\n",
       "        vertical-align: top;\n",
       "    }\n",
       "\n",
       "    .dataframe thead th {\n",
       "        text-align: right;\n",
       "    }\n",
       "</style>\n",
       "<table border=\"1\" class=\"dataframe\">\n",
       "  <thead>\n",
       "    <tr style=\"text-align: right;\">\n",
       "      <th></th>\n",
       "      <th>Gender</th>\n",
       "      <th>Ownership</th>\n",
       "      <th>Travel Cost</th>\n",
       "      <th>Income</th>\n",
       "      <th>Mode</th>\n",
       "    </tr>\n",
       "  </thead>\n",
       "  <tbody>\n",
       "    <tr>\n",
       "      <th>0</th>\n",
       "      <td>Male</td>\n",
       "      <td>0</td>\n",
       "      <td>Cheap</td>\n",
       "      <td>Low</td>\n",
       "      <td>Bus</td>\n",
       "    </tr>\n",
       "    <tr>\n",
       "      <th>1</th>\n",
       "      <td>Male</td>\n",
       "      <td>1</td>\n",
       "      <td>Cheap</td>\n",
       "      <td>Medium</td>\n",
       "      <td>Bus</td>\n",
       "    </tr>\n",
       "    <tr>\n",
       "      <th>3</th>\n",
       "      <td>Male</td>\n",
       "      <td>1</td>\n",
       "      <td>Cheap</td>\n",
       "      <td>Medium</td>\n",
       "      <td>Bus</td>\n",
       "    </tr>\n",
       "    <tr>\n",
       "      <th>5</th>\n",
       "      <td>Male</td>\n",
       "      <td>2</td>\n",
       "      <td>Expensive</td>\n",
       "      <td>Medium</td>\n",
       "      <td>Car</td>\n",
       "    </tr>\n",
       "    <tr>\n",
       "      <th>8</th>\n",
       "      <td>Male</td>\n",
       "      <td>0</td>\n",
       "      <td>Standard</td>\n",
       "      <td>Medium</td>\n",
       "      <td>Train</td>\n",
       "    </tr>\n",
       "  </tbody>\n",
       "</table>\n",
       "</div>"
      ],
      "text/plain": [
       "  Gender  Ownership Travel Cost  Income   Mode\n",
       "0   Male          0       Cheap     Low    Bus\n",
       "1   Male          1       Cheap  Medium    Bus\n",
       "3   Male          1       Cheap  Medium    Bus\n",
       "5   Male          2   Expensive  Medium    Car\n",
       "8   Male          0    Standard  Medium  Train"
      ]
     },
     "execution_count": 6,
     "metadata": {},
     "output_type": "execute_result"
    }
   ],
   "source": [
    "# Lua ra toan bo male\n",
    "gender = pd.unique(dat['Gender'])\n",
    "males = dat.loc[dat['Gender'] == gender[0]]\n",
    "males"
   ]
  },
  {
   "cell_type": "code",
   "execution_count": 7,
   "id": "454018db",
   "metadata": {},
   "outputs": [
    {
     "name": "stdout",
     "output_type": "stream",
     "text": [
      "{'Bus': 0.6, 'Car': 0.2, 'Train': 0.2}\n",
      "Entropy(gender='Male') = 1.37\n"
     ]
    }
   ],
   "source": [
    "# Dem so truong hop\n",
    "items_male = pd.unique(males['Mode'])\n",
    "n_total_male = males['Mode'].count()\n",
    "p_male = dict()\n",
    "for item in items_male:\n",
    "    n_i = males['Mode'].loc[males['Mode'] == item].count()\n",
    "    p_male[item] = n_i/n_total_male\n",
    "print(p_male)\n",
    "# Entropy(S)\n",
    "entropy_male = 0\n",
    "for item in p_male.keys():\n",
    "    pi = p_male[item]\n",
    "    ent_i = -pi*math.log2(pi)\n",
    "    entropy_male += ent_i\n",
    "print(f'Entropy(gender=\\'Male\\') = {entropy_male:.3}')"
   ]
  },
  {
   "cell_type": "markdown",
   "id": "03c2866d",
   "metadata": {},
   "source": [
    "### Caculation for Entropy of Gender with Female value"
   ]
  },
  {
   "cell_type": "code",
   "execution_count": 8,
   "id": "773027d0",
   "metadata": {},
   "outputs": [
    {
     "data": {
      "text/html": [
       "<div>\n",
       "<style scoped>\n",
       "    .dataframe tbody tr th:only-of-type {\n",
       "        vertical-align: middle;\n",
       "    }\n",
       "\n",
       "    .dataframe tbody tr th {\n",
       "        vertical-align: top;\n",
       "    }\n",
       "\n",
       "    .dataframe thead th {\n",
       "        text-align: right;\n",
       "    }\n",
       "</style>\n",
       "<table border=\"1\" class=\"dataframe\">\n",
       "  <thead>\n",
       "    <tr style=\"text-align: right;\">\n",
       "      <th></th>\n",
       "      <th>Gender</th>\n",
       "      <th>Ownership</th>\n",
       "      <th>Travel Cost</th>\n",
       "      <th>Income</th>\n",
       "      <th>Mode</th>\n",
       "    </tr>\n",
       "  </thead>\n",
       "  <tbody>\n",
       "    <tr>\n",
       "      <th>2</th>\n",
       "      <td>Female</td>\n",
       "      <td>0</td>\n",
       "      <td>Cheap</td>\n",
       "      <td>Low</td>\n",
       "      <td>Bus</td>\n",
       "    </tr>\n",
       "    <tr>\n",
       "      <th>4</th>\n",
       "      <td>Female</td>\n",
       "      <td>1</td>\n",
       "      <td>Expensive</td>\n",
       "      <td>High</td>\n",
       "      <td>Car</td>\n",
       "    </tr>\n",
       "    <tr>\n",
       "      <th>6</th>\n",
       "      <td>Female</td>\n",
       "      <td>2</td>\n",
       "      <td>Expensive</td>\n",
       "      <td>High</td>\n",
       "      <td>Car</td>\n",
       "    </tr>\n",
       "    <tr>\n",
       "      <th>7</th>\n",
       "      <td>Female</td>\n",
       "      <td>1</td>\n",
       "      <td>Cheap</td>\n",
       "      <td>Medium</td>\n",
       "      <td>Train</td>\n",
       "    </tr>\n",
       "    <tr>\n",
       "      <th>9</th>\n",
       "      <td>Female</td>\n",
       "      <td>1</td>\n",
       "      <td>Standard</td>\n",
       "      <td>Medium</td>\n",
       "      <td>Train</td>\n",
       "    </tr>\n",
       "  </tbody>\n",
       "</table>\n",
       "</div>"
      ],
      "text/plain": [
       "   Gender  Ownership Travel Cost  Income   Mode\n",
       "2  Female          0       Cheap     Low    Bus\n",
       "4  Female          1   Expensive    High    Car\n",
       "6  Female          2   Expensive    High    Car\n",
       "7  Female          1       Cheap  Medium  Train\n",
       "9  Female          1    Standard  Medium  Train"
      ]
     },
     "execution_count": 8,
     "metadata": {},
     "output_type": "execute_result"
    }
   ],
   "source": [
    "# Lua ra toan bo male\n",
    "gender = pd.unique(dat['Gender'])\n",
    "females = dat.loc[dat['Gender'] == gender[1]]\n",
    "females"
   ]
  },
  {
   "cell_type": "code",
   "execution_count": 9,
   "id": "313ef65d",
   "metadata": {},
   "outputs": [
    {
     "name": "stdout",
     "output_type": "stream",
     "text": [
      "{'Bus': 0.2, 'Car': 0.4, 'Train': 0.4}\n",
      "Entropy(gender='Female') = 1.52\n"
     ]
    }
   ],
   "source": [
    "# Dem so truong hop\n",
    "items_female = pd.unique(females['Mode'])\n",
    "n_total_female = females['Mode'].count()\n",
    "p_female = dict()\n",
    "for item in items_female:\n",
    "    n_i = females['Mode'].loc[females['Mode'] == item].count()\n",
    "    p_female[item] = n_i/n_total_female\n",
    "print(p_female)\n",
    "# Entropy(S)\n",
    "entropy_female = 0\n",
    "for item in p_female.keys():\n",
    "    pi = p_female[item]\n",
    "    ent_i = -pi*math.log2(pi)\n",
    "    entropy_female += ent_i\n",
    "print(f'Entropy(gender=\\'Female\\') = {entropy_female:.3}')"
   ]
  },
  {
   "cell_type": "markdown",
   "id": "75b50a11",
   "metadata": {},
   "source": [
    "### Entropy(Gender)"
   ]
  },
  {
   "cell_type": "code",
   "execution_count": 10,
   "id": "96d8a164",
   "metadata": {},
   "outputs": [
    {
     "name": "stdout",
     "output_type": "stream",
     "text": [
      "1.4464393446710155\n"
     ]
    }
   ],
   "source": [
    "n_gender = dat['Gender'].count()\n",
    "n_male = dat['Gender'].loc[dat['Gender'] == 'Male'].count()\n",
    "p_male = n_male/n_gender\n",
    "p_female = 1-p_male\n",
    "entropy_gender = p_male*entropy_male + p_female*entropy_female\n",
    "print(entropy_gender)"
   ]
  },
  {
   "cell_type": "markdown",
   "id": "ba25fc99",
   "metadata": {},
   "source": [
    "### Gain(S,Gender)"
   ]
  },
  {
   "cell_type": "code",
   "execution_count": 11,
   "id": "c4072e68",
   "metadata": {},
   "outputs": [
    {
     "name": "stdout",
     "output_type": "stream",
     "text": [
      "Gain(S,Gender) = 0.125\n"
     ]
    }
   ],
   "source": [
    "## Gain(S,Gender)\n",
    "gain = entropy_s - entropy_gender\n",
    "print(f'Gain(S,Gender) = {gain:.3}')"
   ]
  },
  {
   "cell_type": "markdown",
   "id": "96611193",
   "metadata": {},
   "source": [
    "## Build *get_gain()* function"
   ]
  },
  {
   "cell_type": "code",
   "execution_count": 12,
   "id": "6eff8138",
   "metadata": {},
   "outputs": [],
   "source": [
    "from source.Gain import get_gain"
   ]
  },
  {
   "cell_type": "code",
   "execution_count": 13,
   "id": "19165e26",
   "metadata": {},
   "outputs": [
    {
     "name": "stdout",
     "output_type": "stream",
     "text": [
      "Gain(S,Gender) = 0.125\n"
     ]
    }
   ],
   "source": [
    "a = get_gain(dat,'Mode','Gender')\n",
    "print(f'Gain(S,Gender) = {a:.3}')"
   ]
  },
  {
   "cell_type": "code",
   "execution_count": 15,
   "id": "2ffa7eea",
   "metadata": {},
   "outputs": [
    {
     "name": "stdout",
     "output_type": "stream",
     "text": [
      "Index(['Gender', 'Ownership', 'Travel Cost', 'Income'], dtype='object')\n"
     ]
    }
   ],
   "source": [
    "# Get all the names of the features\n",
    "features = dat.drop('Mode',axis=1).keys()\n",
    "print(features)"
   ]
  },
  {
   "cell_type": "code",
   "execution_count": 18,
   "id": "e3360110",
   "metadata": {},
   "outputs": [
    {
     "name": "stdout",
     "output_type": "stream",
     "text": [
      "Gain(S,Gender) = 0.125\n",
      "Gain(S,Ownership) = 0.534\n",
      "Gain(S,Travel Cost) = 1.21\n",
      "Gain(S,Income) = 0.695\n",
      "The most meaning feature is \"Travel Cost\"\n"
     ]
    }
   ],
   "source": [
    "gain = dict()\n",
    "fmax = ''\n",
    "gmax = -1\n",
    "for feature in features:\n",
    "    gain[feature] = get_gain(dat,'Mode',feature)\n",
    "    if gmax < gain[feature]: \n",
    "        gmax = gain[feature]\n",
    "        fmax = feature \n",
    "    print(f'Gain(S,{feature}) = {gain[feature]:.3}')\n",
    "print(f'The most meaning feature is \"{fmax}\"')"
   ]
  }
 ],
 "metadata": {
  "kernelspec": {
   "display_name": "Python 3 (ipykernel)",
   "language": "python",
   "name": "python3"
  },
  "language_info": {
   "codemirror_mode": {
    "name": "ipython",
    "version": 3
   },
   "file_extension": ".py",
   "mimetype": "text/x-python",
   "name": "python",
   "nbconvert_exporter": "python",
   "pygments_lexer": "ipython3",
   "version": "3.9.7"
  }
 },
 "nbformat": 4,
 "nbformat_minor": 5
}
